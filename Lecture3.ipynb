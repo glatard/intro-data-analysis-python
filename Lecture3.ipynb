{
 "cells": [
  {
   "cell_type": "markdown",
   "metadata": {
    "slideshow": {
     "slide_type": "slide"
    }
   },
   "source": [
    "# Lecture 3: Debugging & File Reading\n",
    "## October 1, 2019\n",
    "## Tristan Glatard"
   ]
  },
  {
   "cell_type": "markdown",
   "metadata": {
    "slideshow": {
     "slide_type": "slide"
    }
   },
   "source": [
    "# Today's objectives\n",
    "* Create Python scripts\n",
    "* Read and analyze a data file"
   ]
  },
  {
   "cell_type": "markdown",
   "metadata": {
    "slideshow": {
     "slide_type": "slide"
    }
   },
   "source": [
    "# Python scripts\n",
    "\n",
    "So far we wrote programs exclusively in the Python interpreter. While this is useful to test things out, it is not very convenient when more than a few lines of code needs to be written. From now on, we will write our programs in *scripts*. Python scripts:\n",
    "* Are basic text files (not pdf files, not Word files)\n",
    "* Are usually saved with extension `.py`\n",
    "* Are passed directly to the interpreter for execution (no compilation)"
   ]
  },
  {
   "cell_type": "markdown",
   "metadata": {
    "slideshow": {
     "slide_type": "slide"
    }
   },
   "source": [
    "# Editors\n",
    "\n",
    "To write and edit Python scripts, you can use any program that can manipulate text files. Such a program is called an *editor*. The recommended editor in this class is [VSCode](https://code.visualstudio.com/Download) (it should already be installed on your computer). (Popular alternates)[https://realpython.com/python-ides-code-editors-guide/] are PyCharm, Atom, Spyder and Sublime."
   ]
  },
  {
   "cell_type": "markdown",
   "metadata": {
    "slideshow": {
     "slide_type": "fragment"
    }
   },
   "source": [
    "<img src=\"https://upload.wikimedia.org/wikipedia/commons/thumb/d/dd/Antu_task-complete.svg/1024px-Antu_task-complete.svg.png\" width=50 align=left/>\n",
    "\n",
    "* Open VSCode\n",
    "* Create a file and write a basic Python program in it, for instance `print(\"Hello\")`\n",
    "* Save the file and run it with Pythton"
   ]
  },
  {
   "cell_type": "markdown",
   "metadata": {
    "slideshow": {
     "slide_type": "slide"
    }
   },
   "source": [
    "<img src=\"https://upload.wikimedia.org/wikipedia/commons/thumb/d/dd/Antu_task-complete.svg/1024px-Antu_task-complete.svg.png\" width=50 align=left/>\n",
    "\n",
    "* Create another program file in VSCode\n",
    "* Write a longer program, for instance the first `if` example in Lecture 2:\n",
    "\n",
    "```    \n",
    "b = \"Atlantic\"\n",
    "\n",
    "if b.startswith(\"Ca\") and b != \"Cambodia\":\n",
    "    print(\"it's here!\")\n",
    "    print('something else')    \n",
    "else:\n",
    "    print(\"it's far!\")\n",
    "```\n",
    "* Run the program and make sure it works correctly"
   ]
  },
  {
   "cell_type": "markdown",
   "metadata": {
    "slideshow": {
     "slide_type": "slide"
    }
   },
   "source": [
    "<img src=\"https://upload.wikimedia.org/wikipedia/commons/thumb/d/dd/Antu_task-complete.svg/1024px-Antu_task-complete.svg.png\" width=50 align=left/>\n",
    "\n",
    "Coding in the interpreter or through scripts both have advantages and drawbacks. List one advantage and one drawback of each approach."
   ]
  },
  {
   "cell_type": "markdown",
   "metadata": {
    "slideshow": {
     "slide_type": "slide"
    }
   },
   "source": [
    "<img src=\"https://upload.wikimedia.org/wikipedia/commons/thumb/d/dd/Antu_task-complete.svg/1024px-Antu_task-complete.svg.png\" width=50 align=left/>\n",
    "\n",
    "You can now finish the coding exercises seen in Lecture 2, using scripts instead of the interpreter. If you have done all the exercises in Lecture 2 already, pick your favorite one and re-implement it in a script."
   ]
  },
  {
   "cell_type": "markdown",
   "metadata": {
    "slideshow": {
     "slide_type": "slide"
    }
   },
   "source": [
    "# Mini project: Arthritis Inflammation\n",
    "\n",
    "Now that we acquired the basics of Python programming, it's time to use it to do something useful. In this mini project, adapted from [Software Carpentry](https://swcarpentry.github.io/python-novice-inflammation/) we will analyse our first dataset, related to arthritis inflammation. We are studying inflammation in patients who have been given a new treatment for arthritis, and need to analyze the first dozen data sets of their daily inflammation. Our goal is to compute the average number of inflammations for each patient during the time of the clinical trial. \n",
    "\n"
   ]
  },
  {
   "cell_type": "markdown",
   "metadata": {
    "slideshow": {
     "slide_type": "fragment"
    }
   },
   "source": [
    "<img src=\"https://upload.wikimedia.org/wikipedia/commons/thumb/d/dd/Antu_task-complete.svg/1024px-Antu_task-complete.svg.png\" width=50 align=left/>\n",
    "\n",
    "* [Download](https://swcarpentry.github.io/python-novice-inflammation/data/python-novice-inflammation-data.zip) the data\n",
    "* Unzip the data file and open inflammation-01.csv"
   ]
  },
  {
   "cell_type": "markdown",
   "metadata": {
    "slideshow": {
     "slide_type": "fragment"
    }
   },
   "source": [
    "The data is stored in comma-separated values (CSV) format:\n",
    "* each row holds information for a single patient,\n",
    "* columns represent successive days.\n",
    "\n",
    "Each number represents the number of inflammation bouts that a particular patient experienced on a given day. For example, value “6” at row 3 column 7 of the data set above means that the third patient was experiencing inflammation six times on the seventh day of the clinical study."
   ]
  },
  {
   "cell_type": "markdown",
   "metadata": {
    "slideshow": {
     "slide_type": "slide"
    }
   },
   "source": [
    "## Reading data files\n",
    "\n",
    "Our first task will be to read the data file in Python. To do that, we will have to learn about the `open` function. In its simplest form, `open` opens a text file and returns a file object:"
   ]
  },
  {
   "cell_type": "code",
   "execution_count": 1,
   "metadata": {
    "slideshow": {
     "slide_type": "fragment"
    }
   },
   "outputs": [
    {
     "name": "stdout",
     "output_type": "stream",
     "text": [
      "Here is one line\n",
      "\n",
      "Another line\n",
      "\n",
      "... and a third line!\n",
      "\n"
     ]
    }
   ],
   "source": [
    "f = open('test.txt')  # f is now an object representing the file, aka a \"file object\"\n",
    "for line in f:  # f can be iterated on (but it's not a list!)\n",
    "    print(line)  # each 'element' in f represents a line in the file"
   ]
  },
  {
   "cell_type": "markdown",
   "metadata": {
    "slideshow": {
     "slide_type": "slide"
    }
   },
   "source": [
    "In some cases, it may be convenient to read all the lines at once:"
   ]
  },
  {
   "cell_type": "code",
   "execution_count": 2,
   "metadata": {
    "slideshow": {
     "slide_type": "fragment"
    }
   },
   "outputs": [
    {
     "name": "stdout",
     "output_type": "stream",
     "text": [
      "['Here is one line\\n', 'Another line\\n', '... and a third line!\\n']\n"
     ]
    }
   ],
   "source": [
    "f = open('test.txt')\n",
    "lines = f.readlines()\n",
    "print(lines)"
   ]
  },
  {
   "cell_type": "markdown",
   "metadata": {
    "slideshow": {
     "slide_type": "slide"
    }
   },
   "source": [
    "<img src=\"https://upload.wikimedia.org/wikipedia/commons/thumb/d/dd/Antu_task-complete.svg/1024px-Antu_task-complete.svg.png\" width=50 align=left/>\n",
    "\n",
    "* Write a program that counts the number of patients in a file of the arthritis dataset, for instance `inflammation-01.csv`."
   ]
  },
  {
   "cell_type": "markdown",
   "metadata": {
    "slideshow": {
     "slide_type": "slide"
    }
   },
   "source": [
    "<img src=\"https://upload.wikimedia.org/wikipedia/commons/thumb/d/dd/Antu_task-complete.svg/1024px-Antu_task-complete.svg.png\" width=50 align=left/>\n",
    "\n",
    "* Modify your program to count the number of patients across all the files in the dataset. Hint: iterate over `range(1, 10)`."
   ]
  },
  {
   "cell_type": "markdown",
   "metadata": {
    "slideshow": {
     "slide_type": "slide"
    }
   },
   "source": [
    "## Parsing data files\n",
    "\n",
    "To do something useful with our data file, we will have to import it in some kind of data structure, such as a list. This operation is called *parsing*. The simplest way to parse a data file is to iterate through its lines, process them and store them in a list. For instance, this program parses the first character of each line in our example file:"
   ]
  },
  {
   "cell_type": "code",
   "execution_count": 3,
   "metadata": {
    "slideshow": {
     "slide_type": "fragment"
    }
   },
   "outputs": [
    {
     "name": "stdout",
     "output_type": "stream",
     "text": [
      "['H', 'A', '.']\n"
     ]
    }
   ],
   "source": [
    "first_chars = []\n",
    "f = open('test.txt')\n",
    "for line in f:\n",
    "    first_chars = first_chars + [line[0]]\n",
    "print(first_chars)"
   ]
  },
  {
   "cell_type": "markdown",
   "metadata": {},
   "source": [
    "<img src=\"https://upload.wikimedia.org/wikipedia/commons/thumb/d/dd/Antu_task-complete.svg/1024px-Antu_task-complete.svg.png\" width=50 align=left/>\n",
    "\n",
    "* Create a program that counts the average number of inflammations for each patients in a data file. For instance, when your program is run with `inflammation-01.csv`, it should produce the following output:\n",
    "```\n",
    "5.45\n",
    "5.425\n",
    "6.1\n",
    "5.9\n",
    "5.55\n",
    "6.225\n",
    "...\n",
    "```"
   ]
  },
  {
   "cell_type": "markdown",
   "metadata": {},
   "source": [
    "Hint: suggested approach:\n",
    "1. Open the file\n",
    "2. Go through all the lines with a `for` loop\n",
    "3. For each line, use `str.split` to split the numbers in a list\n",
    "4. Compute the average number in the list"
   ]
  },
  {
   "cell_type": "markdown",
   "metadata": {},
   "source": [
    "<img src=\"https://upload.wikimedia.org/wikipedia/commons/thumb/d/dd/Antu_task-complete.svg/1024px-Antu_task-complete.svg.png\" width=50 align=left/>\n",
    "\n",
    "* Modify your program to count the number of inflammations across all patients"
   ]
  },
  {
   "cell_type": "markdown",
   "metadata": {},
   "source": [
    "# Bonus: data visualization\n",
    "\n",
    "The `matplotlib` library can be used to plot graphs from Python data structures. For instance, it can be used to plot numbers in a list:\n"
   ]
  },
  {
   "cell_type": "code",
   "execution_count": 4,
   "metadata": {},
   "outputs": [
    {
     "data": {
      "text/plain": [
       "<Figure size 640x480 with 1 Axes>"
      ]
     },
     "metadata": {},
     "output_type": "display_data"
    }
   ],
   "source": [
    "from matplotlib import pyplot as plt\n",
    "data = [0, 1, 2, 2, 1, 0]\n",
    "plt.plot(data)\n",
    "plt.show()"
   ]
  },
  {
   "cell_type": "markdown",
   "metadata": {},
   "source": [
    "<img src=\"https://upload.wikimedia.org/wikipedia/commons/thumb/d/dd/Antu_task-complete.svg/1024px-Antu_task-complete.svg.png\" width=50 align=left/>\n",
    "\n",
    "* Create a program that plots the number of inflammations per day for the first patient in `inflammation-01.csv` "
   ]
  },
  {
   "cell_type": "markdown",
   "metadata": {},
   "source": [
    "<img src=\"https://upload.wikimedia.org/wikipedia/commons/thumb/d/dd/Antu_task-complete.svg/1024px-Antu_task-complete.svg.png\" width=50 align=left/>\n",
    "\n",
    "* Modify your program to compute and plot the average number of inflammations per day across all patients"
   ]
  },
  {
   "cell_type": "markdown",
   "metadata": {},
   "source": [
    "# Bonus: loading data with numpy\n",
    "\n",
    "`numpy` is a useful library to manipulate tables of numbers. It can load a CSV file as follows:"
   ]
  },
  {
   "cell_type": "code",
   "execution_count": 5,
   "metadata": {},
   "outputs": [],
   "source": [
    "import numpy\n",
    "a = numpy.loadtxt(fname='../arthritis/data/inflammation-01.csv', delimiter=',')"
   ]
  },
  {
   "cell_type": "markdown",
   "metadata": {},
   "source": [
    "The resulting array can be accessed as a list of rows:"
   ]
  },
  {
   "cell_type": "code",
   "execution_count": 6,
   "metadata": {},
   "outputs": [
    {
     "data": {
      "text/plain": [
       "6.0"
      ]
     },
     "execution_count": 6,
     "metadata": {},
     "output_type": "execute_result"
    }
   ],
   "source": [
    "a[2][6]  # number of inflammations for patient 3 at day 7 (careful, indices start at 0)"
   ]
  },
  {
   "cell_type": "markdown",
   "metadata": {},
   "source": [
    "<img src=\"https://upload.wikimedia.org/wikipedia/commons/thumb/d/dd/Antu_task-complete.svg/1024px-Antu_task-complete.svg.png\" width=50 align=left/>\n",
    "\n",
    "* Modify the previous programs so that they use numpy arrays instead of lists"
   ]
  }
 ],
 "metadata": {
  "celltoolbar": "Slideshow",
  "kernelspec": {
   "display_name": "Python 3",
   "language": "python",
   "name": "python3"
  },
  "language_info": {
   "codemirror_mode": {
    "name": "ipython",
    "version": 3
   },
   "file_extension": ".py",
   "mimetype": "text/x-python",
   "name": "python",
   "nbconvert_exporter": "python",
   "pygments_lexer": "ipython3",
   "version": "3.7.3"
  }
 },
 "nbformat": 4,
 "nbformat_minor": 2
}
