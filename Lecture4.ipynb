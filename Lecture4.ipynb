{
 "cells": [
  {
   "cell_type": "markdown",
   "metadata": {
    "slideshow": {
     "slide_type": "slide"
    }
   },
   "source": [
    "# Lecture 4: Argument parsing, Version control\n",
    "## October 1, 2019\n",
    "## Tristan Glatard\n"
   ]
  },
  {
   "cell_type": "markdown",
   "metadata": {
    "slideshow": {
     "slide_type": "slide"
    }
   },
   "source": [
    "# Objectives for today\n",
    "* Customize scripts with arguments\n",
    "* Get introduced to version control\n",
    "* Improve our file reading skills\n"
   ]
  },
  {
   "cell_type": "markdown",
   "metadata": {
    "slideshow": {
     "slide_type": "slide"
    }
   },
   "source": [
    "# Back to the Airbnb dataset (week 3 homework)\n",
    "\n",
    "Parsing the first 10 lines only requires `split`:"
   ]
  },
  {
   "cell_type": "code",
   "execution_count": 57,
   "metadata": {
    "slideshow": {
     "slide_type": "fragment"
    }
   },
   "outputs": [
    {
     "name": "stdout",
     "output_type": "stream",
     "text": [
      "149\n",
      "225\n",
      "150\n",
      "89\n",
      "80\n",
      "200\n",
      "60\n",
      "79\n",
      "79\n",
      "150\n"
     ]
    }
   ],
   "source": [
    "file_name = 'airbnb/first_10.csv'\n",
    "f = open(file_name)\n",
    "lines = f.readlines()\n",
    "for line in lines[1:]:\n",
    "    columns = line.split(',')\n",
    "    price = columns[9]\n",
    "    print(price)"
   ]
  },
  {
   "cell_type": "markdown",
   "metadata": {
    "slideshow": {
     "slide_type": "slide"
    }
   },
   "source": [
    "The assignment requested to print only the lines where price is in [100, 150]:"
   ]
  },
  {
   "cell_type": "code",
   "execution_count": 58,
   "metadata": {
    "slideshow": {
     "slide_type": "fragment"
    }
   },
   "outputs": [
    {
     "name": "stdout",
     "output_type": "stream",
     "text": [
      "2539,Clean & quiet apt home by the park,2787,John,Brooklyn,Kensington,40.64749,-73.97237,Private room,149,1,9,2018-10-19,0.21,6,365\n",
      "\n",
      "3647,THE VILLAGE OF HARLEM....NEW YORK !,4632,Elisabeth,Manhattan,Harlem,40.80902,-73.9419,Private room,150,3,0,,,1,365\n",
      "\n",
      "5238,Cute & Cozy Lower East Side 1 bdrm,7549,Ben,Manhattan,Chinatown,40.71344,-73.99037,Entire home/apt,150,1,160,2019-06-09,1.33,4,188\n",
      "\n"
     ]
    }
   ],
   "source": [
    "file_name = 'airbnb/first_10.csv'\n",
    "f = open(file_name)\n",
    "lines = f.readlines()\n",
    "for line in lines[1:]:\n",
    "    columns = line.split(',')\n",
    "    price = int(columns[9])\n",
    "    if price >= 100 and price <= 150:\n",
    "        print(line)"
   ]
  },
  {
   "cell_type": "markdown",
   "metadata": {
    "slideshow": {
     "slide_type": "slide"
    }
   },
   "source": [
    "# Script arguments\n",
    "\n",
    "In many occasions, we would like to run the same script with slight variations in parameters, for instance:\n",
    "* A different file name\n",
    "* A different price range\n",
    "\n",
    "It is not convenient to have to modify our script for that. Instead, we will use script arguments. Arguments are:\n",
    "* Passed on the command line, for instance `python myscript.py a b c` passes 3 arguments to `myscript.py`, with values `\"a\"`, `\"b\"` and `\"c\"`.\n",
    "* Accessible by the script through a list called `sys.argv`\n",
    "* Always of type string: you should convert them to numbers if necessary."
   ]
  },
  {
   "cell_type": "markdown",
   "metadata": {
    "slideshow": {
     "slide_type": "slide"
    }
   },
   "source": [
    "<img src=\"https://upload.wikimedia.org/wikipedia/commons/thumb/d/dd/Antu_task-complete.svg/1024px-Antu_task-complete.svg.png\" width=50 align=left/>\n",
    "\n",
    "* Create a script with the following code and run it with arguments:\n",
    "```\n",
    "import sys\n",
    "print(sys.argv)\n",
    "```\n",
    "* What does it do?"
   ]
  },
  {
   "cell_type": "markdown",
   "metadata": {
    "slideshow": {
     "slide_type": "slide"
    }
   },
   "source": [
    "<img src=\"https://upload.wikimedia.org/wikipedia/commons/thumb/d/dd/Antu_task-complete.svg/1024px-Antu_task-complete.svg.png\" width=50 align=left/>\n",
    "    \n",
    "* Modify your Airbnb homework script to pass the file name and price range as arguments"
   ]
  },
  {
   "cell_type": "markdown",
   "metadata": {
    "slideshow": {
     "slide_type": "slide"
    }
   },
   "source": [
    "# Git and GitHub"
   ]
  },
  {
   "cell_type": "markdown",
   "metadata": {
    "slideshow": {
     "slide_type": "fragment"
    }
   },
   "source": [
    "As you may have noticed, scripts rapidly evolve, and it's sometimes important to keep track of this evolution. To keep things tractable, good software engineers always use a *version control system*. [Git](https://git-scm.com) is currently the most popular version control system. Git allows developers to:\n",
    "* Keep track of the history of a script\n",
    "* Work collaboratively on the same scripts\n",
    "* Share their code on an online platform: [GitHub](https://github.com)."
   ]
  },
  {
   "cell_type": "markdown",
   "metadata": {
    "slideshow": {
     "slide_type": "fragment"
    }
   },
   "source": [
    "<img src=\"https://upload.wikimedia.org/wikipedia/commons/thumb/d/dd/Antu_task-complete.svg/1024px-Antu_task-complete.svg.png\" width=50 align=left/>\n",
    "\n",
    "* Create an account on [GitHub](https://github.com) if you don't have one already\n",
    "* Look at projects hosted on GitHub, such as [scikit-learn](https://github.com/scikit-learn/scikit-learn), [Apache Spark](https://github.com/apache/spark) or [streamlit](https://github.com/streamlit/streamlit). What type of information can you get from GitHub?"
   ]
  },
  {
   "cell_type": "markdown",
   "metadata": {
    "slideshow": {
     "slide_type": "slide"
    }
   },
   "source": [
    "<img src=\"https://upload.wikimedia.org/wikipedia/commons/thumb/d/dd/Antu_task-complete.svg/1024px-Antu_task-complete.svg.png\" width=50 align=left/>\n",
    "\n",
    "* Create a new repository in your GitHub account\n",
    "* Download and install the [GitHub Desktop app](https://desktop.github.com/)\n",
    "* Add your \"Airbnb\" homework script to the repository (you can use the solution shown above if you prefer)\n",
    "* Note: if you don't want this code to be public, you can configure this in your repository under \"Settings\"."
   ]
  },
  {
   "cell_type": "markdown",
   "metadata": {
    "slideshow": {
     "slide_type": "slide"
    }
   },
   "source": [
    "# File reading, continued"
   ]
  },
  {
   "cell_type": "markdown",
   "metadata": {
    "slideshow": {
     "slide_type": "fragment"
    }
   },
   "source": [
    "Our current solution to parse the Airbnb dataset doesn't work on the entire file:"
   ]
  },
  {
   "cell_type": "code",
   "execution_count": 64,
   "metadata": {
    "slideshow": {
     "slide_type": "fragment"
    }
   },
   "outputs": [
    {
     "name": "stdout",
     "output_type": "stream",
     "text": [
      "2539,Clean & quiet apt home by the park,2787,John,Brooklyn,Kensington,40.64749,-73.97237,Private room,149,1,9,2018-10-19,0.21,6,365\n",
      "\n",
      "3647,THE VILLAGE OF HARLEM....NEW YORK !,4632,Elisabeth,Manhattan,Harlem,40.80902,-73.9419,Private room,150,3,0,,,1,365\n",
      "\n",
      "5238,Cute & Cozy Lower East Side 1 bdrm,7549,Ben,Manhattan,Chinatown,40.71344,-73.99037,Entire home/apt,150,1,160,2019-06-09,1.33,4,188\n",
      "\n",
      "5295,Beautiful 1br on Upper West Side,7702,Lena,Manhattan,Upper West Side,40.80316,-73.96545,Entire home/apt,135,5,53,2019-06-22,0.43,1,6\n",
      "\n"
     ]
    },
    {
     "ename": "ValueError",
     "evalue": "invalid literal for int() with base 10: '40.66829'",
     "output_type": "error",
     "traceback": [
      "\u001b[0;31m---------------------------------------------------------------------------\u001b[0m",
      "\u001b[0;31mValueError\u001b[0m                                Traceback (most recent call last)",
      "\u001b[0;32m<ipython-input-64-15cd568b2300>\u001b[0m in \u001b[0;36m<module>\u001b[0;34m\u001b[0m\n\u001b[1;32m      4\u001b[0m \u001b[0;32mfor\u001b[0m \u001b[0mline\u001b[0m \u001b[0;32min\u001b[0m \u001b[0mlines\u001b[0m\u001b[0;34m[\u001b[0m\u001b[0;36m1\u001b[0m\u001b[0;34m:\u001b[0m\u001b[0;34m]\u001b[0m\u001b[0;34m:\u001b[0m\u001b[0;34m\u001b[0m\u001b[0;34m\u001b[0m\u001b[0m\n\u001b[1;32m      5\u001b[0m     \u001b[0mcolumns\u001b[0m \u001b[0;34m=\u001b[0m \u001b[0mline\u001b[0m\u001b[0;34m.\u001b[0m\u001b[0msplit\u001b[0m\u001b[0;34m(\u001b[0m\u001b[0;34m','\u001b[0m\u001b[0;34m)\u001b[0m\u001b[0;34m\u001b[0m\u001b[0;34m\u001b[0m\u001b[0m\n\u001b[0;32m----> 6\u001b[0;31m     \u001b[0mprice\u001b[0m \u001b[0;34m=\u001b[0m \u001b[0mint\u001b[0m\u001b[0;34m(\u001b[0m\u001b[0mcolumns\u001b[0m\u001b[0;34m[\u001b[0m\u001b[0;36m9\u001b[0m\u001b[0;34m]\u001b[0m\u001b[0;34m)\u001b[0m\u001b[0;34m\u001b[0m\u001b[0;34m\u001b[0m\u001b[0m\n\u001b[0m\u001b[1;32m      7\u001b[0m     \u001b[0;32mif\u001b[0m \u001b[0mprice\u001b[0m \u001b[0;34m>=\u001b[0m \u001b[0;36m100\u001b[0m \u001b[0;32mand\u001b[0m \u001b[0mprice\u001b[0m \u001b[0;34m<=\u001b[0m \u001b[0;36m150\u001b[0m\u001b[0;34m:\u001b[0m\u001b[0;34m\u001b[0m\u001b[0;34m\u001b[0m\u001b[0m\n\u001b[1;32m      8\u001b[0m         \u001b[0mprint\u001b[0m\u001b[0;34m(\u001b[0m\u001b[0mline\u001b[0m\u001b[0;34m)\u001b[0m\u001b[0;34m\u001b[0m\u001b[0;34m\u001b[0m\u001b[0m\n",
      "\u001b[0;31mValueError\u001b[0m: invalid literal for int() with base 10: '40.66829'"
     ]
    }
   ],
   "source": [
    "file_name = 'airbnb/complete.csv'\n",
    "f = open(file_name)\n",
    "lines = f.readlines()\n",
    "for line in lines[1:]:\n",
    "    columns = line.split(',')\n",
    "    price = int(columns[9])\n",
    "    if price >= 100 and price <= 150:\n",
    "        print(line)"
   ]
  },
  {
   "cell_type": "markdown",
   "metadata": {
    "slideshow": {
     "slide_type": "slide"
    }
   },
   "source": [
    "Let's use a \"try-catch\" clause to print the line where there is a parsing error."
   ]
  },
  {
   "cell_type": "code",
   "execution_count": 68,
   "metadata": {
    "slideshow": {
     "slide_type": "fragment"
    }
   },
   "outputs": [
    {
     "name": "stdout",
     "output_type": "stream",
     "text": [
      "2539,Clean & quiet apt home by the park,2787,John,Brooklyn,Kensington,40.64749,-73.97237,Private room,149,1,9,2018-10-19,0.21,6,365\n",
      "\n",
      "3647,THE VILLAGE OF HARLEM....NEW YORK !,4632,Elisabeth,Manhattan,Harlem,40.80902,-73.9419,Private room,150,3,0,,,1,365\n",
      "\n",
      "5238,Cute & Cozy Lower East Side 1 bdrm,7549,Ben,Manhattan,Chinatown,40.71344,-73.99037,Entire home/apt,150,1,160,2019-06-09,1.33,4,188\n",
      "\n",
      "5295,Beautiful 1br on Upper West Side,7702,Lena,Manhattan,Upper West Side,40.80316,-73.96545,Entire home/apt,135,5,53,2019-06-22,0.43,1,6\n",
      "\n",
      "Parsing ERROR:  5803,\"Lovely Room 1, Garden, Best Area, Legal rental\",9744,Laurie,Brooklyn,South Slope,40.66829,-73.98779,Private room,89,4,167,2019-06-24,1.34,3,314\n",
      "\n"
     ]
    },
    {
     "ename": "SystemExit",
     "evalue": "1",
     "output_type": "error",
     "traceback": [
      "An exception has occurred, use %tb to see the full traceback.\n",
      "\u001b[0;31mSystemExit\u001b[0m\u001b[0;31m:\u001b[0m 1\n"
     ]
    }
   ],
   "source": [
    "import sys\n",
    "file_name = 'airbnb/complete.csv'\n",
    "f = open(file_name)\n",
    "lines = f.readlines()\n",
    "for line in lines[1:]:\n",
    "    columns = line.split(',')\n",
    "    try:  \n",
    "        price = int(columns[9])\n",
    "    except:\n",
    "        print(\"Parsing ERROR: \",line)\n",
    "        sys.exit(1)  # this stops the program\n",
    "    if price >= 100 and price <= 150:\n",
    "        print(line)"
   ]
  },
  {
   "cell_type": "markdown",
   "metadata": {
    "slideshow": {
     "slide_type": "slide"
    }
   },
   "source": [
    "<img src=\"https://upload.wikimedia.org/wikipedia/commons/thumb/d/dd/Antu_task-complete.svg/1024px-Antu_task-complete.svg.png\" width=50 align=left/>\n",
    "\n",
    "Check the data file: \n",
    "* why is line 14 not parsed correctly by our program?\n",
    "* how can we fix this problem and parse the file correctly?"
   ]
  },
  {
   "cell_type": "markdown",
   "metadata": {
    "slideshow": {
     "slide_type": "slide"
    }
   },
   "source": [
    "Here is a possible solution to address the \"quoting\" issue:"
   ]
  },
  {
   "cell_type": "code",
   "execution_count": 67,
   "metadata": {
    "slideshow": {
     "slide_type": "fragment"
    }
   },
   "outputs": [
    {
     "name": "stdout",
     "output_type": "stream",
     "text": [
      "2539,Clean & quiet apt home by the park,2787,John,Brooklyn,Kensington,40.64749,-73.97237,Private room,149,1,9,2018-10-19,0.21,6,365\n",
      "\n",
      "3647,THE VILLAGE OF HARLEM....NEW YORK !,4632,Elisabeth,Manhattan,Harlem,40.80902,-73.9419,Private room,150,3,0,,,1,365\n",
      "\n",
      "5238,Cute & Cozy Lower East Side 1 bdrm,7549,Ben,Manhattan,Chinatown,40.71344,-73.99037,Entire home/apt,150,1,160,2019-06-09,1.33,4,188\n",
      "\n",
      "5295,Beautiful 1br on Upper West Side,7702,Lena,Manhattan,Upper West Side,40.80316,-73.96545,Entire home/apt,135,5,53,2019-06-22,0.43,1,6\n",
      "\n",
      "6090,West Village Nest - Superhost,11975,Alina,Manhattan,West Village,40.7353,-74.00525,Entire home/apt,120,90,27,2018-10-31,0.22,1,0\n",
      "\n",
      "6848,Only 2 stops to Manhattan studio,15991,Allen & Irina,Brooklyn,Williamsburg,40.70837,-73.95352,Entire home/apt,140,2,148,2019-06-29,1.20,1,46\n",
      "\n",
      "7322,Chelsea Perfect,18946,Doti,Manhattan,Chelsea,40.74192,-73.99501,Private room,140,1,260,2019-07-01,2.12,1,12\n",
      "\n",
      "8024,CBG CtyBGd HelpsHaiti rm#1:1-4,22486,Lisel,Brooklyn,Park Slope,40.68069,-73.97706,Private room,130,2,130,2019-07-01,1.09,6,347\n",
      "\n",
      "8110,CBG Helps Haiti Rm #2,22486,Lisel,Brooklyn,Park Slope,40.68001,-73.97865,Private room,110,2,71,2019-07-02,0.61,6,304\n",
      "\n",
      "8490,\"MAISON DES SIRENES1,bohemian apartment\",25183,Nathalie,Brooklyn,Bedford-Stuyvesant,40.68371,-73.94028,Entire home/apt,120,2,88,2019-06-19,0.73,2,233\n",
      "\n",
      "9357,Midtown Pied-a-terre,30193,Tommi,Manhattan,Hell's Kitchen,40.76715,-73.98533,Entire home/apt,150,10,58,2017-08-13,0.49,1,75\n",
      "\n",
      "11943,Country space in the city,45445,Harriet,Brooklyn,Flatbush,40.63702,-73.96327,Private room,150,1,0,,,1,365\n",
      "\n",
      "12299,Beautiful Sunny Park Slope Brooklyn,47610,Abdul,Brooklyn,South Slope,40.66278,-73.97966,Entire home/apt,120,3,15,2019-05-27,0.39,1,345\n",
      "\n",
      "12303,1bdr w private bath. in lofty apt,47618,Yolande,Brooklyn,Fort Greene,40.69673,-73.97584,Private room,120,7,25,2018-09-30,0.23,1,311\n",
      "\n",
      "12318,West Side Retreat,16800,Cyn,Manhattan,Upper West Side,40.79009,-73.97927,Private room,135,4,81,2019-06-16,0.69,1,273\n",
      "\n",
      "12343,BEST BET IN HARLEM,47727,Earl,Manhattan,Harlem,40.81175,-73.94478,Entire home/apt,150,7,97,2019-06-13,0.84,1,309\n",
      "\n",
      "12627,Entire apartment in central Brooklyn neighborhood.,49670,Rana,Brooklyn,Prospect-Lefferts Gardens,40.65944,-73.96238,Entire home/apt,150,29,11,2019-06-05,0.49,1,95\n",
      "\n",
      "12937,\"1 Stop fr. Manhattan! Private Suite,Landmark Block\",50124,Orestes,Queens,Long Island City,40.74771,-73.9474,Private room,130,3,248,2019-07-01,2.25,1,215\n",
      "\n",
      "12940,Charming Brownstone 3 - Near PRATT,50148,Adreinne,Brooklyn,Bedford-Stuyvesant,40.68111,-73.95591,Entire home/apt,110,7,61,2019-05-25,0.52,1,265\n",
      "\n",
      "13050,bright and stylish duplex,50846,Jennifer,Brooklyn,Bedford-Stuyvesant,40.68554,-73.9409,Entire home/apt,115,3,11,2017-01-01,0.10,1,0\n",
      "\n",
      "14314,Greenpoint Place...Has It All! ,56246,Jeanne,Brooklyn,Greenpoint,40.73506,-73.95392,Entire home/apt,144,2,328,2019-06-29,2.82,1,234\n",
      "\n",
      "14377,Williamsburg 1 bedroom Apartment,56512,Joanna,Brooklyn,Williamsburg,40.70881,-73.9593,Entire home/apt,150,30,105,2019-06-22,0.90,1,30\n",
      "\n",
      "14991,\"Great Location, Manhattan Bedroom!\",59023,Bianca,Manhattan,Lower East Side,40.72004,-73.99104,Private room,110,5,19,2019-05-18,0.17,1,301\n",
      "\n",
      "17747,BLUE TRIM GUEST HOUSE,68599,George,Brooklyn,Clinton Hill,40.68346,-73.96374,Private room,105,2,105,2019-06-26,0.92,1,304\n",
      "\n",
      "18728,Beautiful Meatpacking District Loft,71876,DAVID And RICK,Manhattan,Chelsea,40.74138,-74.00197,Private room,150,3,167,2019-05-28,1.65,1,295\n",
      "\n",
      "18764,Cozy 2 BR in Williamsburg ,72014,Lulú,Brooklyn,Williamsburg,40.71154,-73.96112,Private room,145,3,61,2019-04-22,0.54,4,238\n",
      "\n",
      "19159,Spacious luminous apt Upper West NYC,73051,Sybilla,Manhattan,Harlem,40.82915,-73.95136,Entire home/apt,110,31,54,2019-03-23,0.49,1,209\n",
      "\n",
      "19282,\"Sunny, Spacious Top Floor Haven\",73469,Gaia,Brooklyn,Flatbush,40.65401,-73.96323,Entire home/apt,130,6,16,2019-06-15,0.15,1,38\n",
      "\n",
      "19812,2 bedroom Williamsburg Apt - Bedford L stop,74857,Starlee,Brooklyn,Williamsburg,40.71833,-73.95748,Entire home/apt,105,3,61,2018-08-09,0.53,1,272\n",
      "\n",
      "20734,Spacious Prospect Heights Apartment,78460,Sean & Lynette,Brooklyn,Prospect Heights,40.68233,-73.97261,Entire home/apt,131,4,166,2019-06-27,3.40,1,207\n",
      "\n",
      "20913,Charming 1 bed GR8 WBurg LOCATION!,79402,Christiana,Brooklyn,Williamsburg,40.70984,-73.95775,Entire home/apt,100,5,168,2018-07-22,1.57,1,0\n",
      "\n",
      "21293,Sunny Apartment in Artist Home,44145,Tyrome,Brooklyn,Bushwick,40.70093,-73.92609,Entire home/apt,105,3,118,2019-06-18,1.05,2,9\n",
      "\n",
      "21456,Light-filled classic Central Park ,42032,Dana,Manhattan,Upper West Side,40.79764,-73.96177,Entire home/apt,140,3,81,2019-07-07,0.71,1,198\n",
      "\n",
      "22911,The Stuydio Modern and Light Filled,87773,Shelly,Brooklyn,Bedford-Stuyvesant,40.68413,-73.92357,Entire home/apt,125,7,139,2018-10-28,1.23,2,311\n",
      "\n",
      "24143,\"Williamsburg—Steps To Subway, Private Bath&Balcony\",97219,Seth,Brooklyn,Williamsburg,40.71332,-73.94177,Private room,101,3,335,2019-05-29,3.02,1,152\n",
      "\n",
      "25235,Large 2 Bedroom Great for Groups!,87773,Shelly,Brooklyn,Bedford-Stuyvesant,40.68373,-73.92377,Entire home/apt,125,90,162,2019-06-28,1.46,2,137\n",
      "\n",
      "25696,\"1,800 sq foot in luxury building\",107628,Dena,Manhattan,Harlem,40.8092,-73.94421,Private room,100,2,170,2019-06-23,1.61,1,346\n",
      "\n",
      "26520,\"Cozy Room #3, Landmark Home 1 Block to PRATT\",51038,Erica,Brooklyn,Clinton Hill,40.68698,-73.96572,Private room,125,2,19,2019-06-02,0.20,6,250\n",
      "\n",
      "26559,Beautiful Apartment East Village,112793,Sally,Manhattan,East Village,40.7288,-73.98192,Entire home/apt,140,7,12,2017-12-11,0.13,1,164\n",
      "\n",
      "26785,Park Slope Green Guest House,42273,Dani,Brooklyn,South Slope,40.66853,-73.98912,Entire home/apt,120,30,467,2018-12-30,4.22,2,192\n",
      "\n",
      "27883,East Village Sanctuary,120223,Jen,Manhattan,East Village,40.72245,-73.98527,Entire home/apt,100,4,25,2011-12-10,0.23,1,0\n",
      "\n",
      "28907,Garden studio in the Upper East Sid,124352,Lisa,Manhattan,Upper East Side,40.778,-73.94822,Entire home/apt,150,5,21,2017-08-15,0.19,1,189\n",
      "\n",
      "29455,ACCOMMODATIONS GALORE #1,126607,Laurine,Manhattan,Harlem,40.81618,-73.94894,Entire home/apt,120,3,155,2019-06-20,1.42,3,213\n",
      "\n",
      "30927,Unique & Charming small 1br Apt. LES,120335,Cs,Manhattan,Lower East Side,40.71341,-73.98856,Entire home/apt,105,3,32,2019-06-14,0.29,1,16\n",
      "\n",
      "31130,Most Central Location!,117287,Lara,Manhattan,Hell's Kitchen,40.76754,-73.98399,Private room,130,2,50,2019-05-26,0.45,3,234\n",
      "\n",
      "31555,Luminous Beautiful West Village Studio,135619,Tom,Manhattan,West Village,40.73442,-74.00303,Entire home/apt,115,29,26,2019-07-01,0.25,1,12\n",
      "\n",
      "32023,FLAT MACDONOUGH,137974,Khem,Brooklyn,Bedford-Stuyvesant,40.68296,-73.93662,Entire home/apt,125,3,227,2019-06-23,2.09,2,163\n",
      "\n",
      "32037,Huge Private  Floor at The Waverly,116599,Sahr,Brooklyn,Clinton Hill,40.6863,-73.96765,Private room,135,4,84,2019-07-01,0.77,3,365\n",
      "\n",
      "32331,\"Sunny, Cobble Hill Apartment\",139874,Sarah,Brooklyn,Cobble Hill,40.6857,-73.99183,Entire home/apt,140,2,4,2016-04-24,0.04,1,0\n",
      "\n",
      "32363,Fully Furnished Basement Apartment,140025,Fredah,Queens,Flushing,40.74028,-73.83168,Private room,140,2,1,2011-09-19,0.01,1,1\n",
      "\n",
      "32965,FLAT MACDONOUGH GARDEN,137974,Khem,Brooklyn,Bedford-Stuyvesant,40.68281,-73.93524,Entire home/apt,115,3,124,2019-06-20,1.72,2,170\n",
      "\n",
      "36133,Classic Artist Loft Williamsburg,142684,White,Brooklyn,Williamsburg,40.71536,-73.96057,Private room,125,3,155,2019-06-13,1.61,1,1\n",
      "\n",
      "36442,Great location. Spacious on PROSPECT PARK,137432,Paz,Brooklyn,Prospect Heights,40.6741,-73.96595,Entire home/apt,115,15,4,2018-08-27,0.05,1,269\n",
      "\n",
      "36934,Great location in Williamsburg,159370,Viviana,Brooklyn,Williamsburg,40.71363,-73.96398,Entire home/apt,125,6,27,2018-12-27,0.25,1,189\n",
      "\n",
      "39704,\"Private, Large & Sunny 1BR w/W&D\",170510,Renée,Brooklyn,Bedford-Stuyvesant,40.68306,-73.94659,Entire home/apt,135,2,309,2019-06-22,2.86,2,3\n",
      "\n",
      "44161,Light+Open+Airy+Rustic+Modern Loft,193360,Young,Brooklyn,Williamsburg,40.71045,-73.9677,Entire home/apt,150,2,193,2016-07-06,1.78,1,177\n",
      "\n",
      "44212,West Inn 2 - East Village,72062,Bruce,Manhattan,East Village,40.72518,-73.98034,Private room,125,1,84,2019-06-23,0.78,4,310\n",
      "\n",
      "44229,BROOKLYN VICTORIAN STYLE SUITE.....,181376,Carol,Brooklyn,Fort Greene,40.69098,-73.97113,Private room,110,2,213,2019-06-24,2.00,2,321\n",
      "\n",
      "45393,Greenwich Village Stylish Apartment,201297,Myrna,Manhattan,West Village,40.73423,-74.0046,Entire home/apt,150,26,38,2016-04-20,0.36,1,225\n",
      "\n",
      "45542,Clean and Cozy Harlem Apartment,202249,Campbell,Manhattan,Harlem,40.82374,-73.9373,Entire home/apt,100,2,18,2018-12-17,1.79,1,0\n",
      "\n",
      "46544,Park Slope haven 15 mins from Soho,8198,Monica,Brooklyn,Park Slope,40.67994,-73.97863,Entire home/apt,150,5,52,2019-06-05,0.50,1,18\n",
      "\n",
      "46911,Large Room in private Brownstone in Park Slope,210746,Kathleen R.,Brooklyn,Prospect Heights,40.67868,-73.97307,Private room,120,3,51,2019-06-24,0.48,3,250\n",
      "\n",
      "47370,Chelsea Studio sublet 1 - 2 months,214287,Alex,Manhattan,Chelsea,40.74031,-73.99999,Entire home/apt,125,3,3,2015-07-17,0.03,1,0\n",
      "\n",
      "50447,Lovely Apt & Garden;  Legal;  Best Area; Amenities,9744,Laurie,Brooklyn,South Slope,40.6693,-73.98804,Entire home/apt,135,5,151,2019-06-22,1.43,3,162\n",
      "\n",
      "51438,1 Bedroom in 2 Bdrm Apt- Upper East,236421,Jessica,Manhattan,Upper East Side,40.77333,-73.95199,Private room,130,14,0,,,2,0\n",
      "\n",
      "51572,Prime Location in Manhattan,237329,Lee,Manhattan,Chelsea,40.74859,-73.99671,Private room,123,1,375,2019-06-18,3.52,1,328\n",
      "\n",
      "53470,Clean and convenient 2BR apartment,204539,Mark,Queens,Ridgewood,40.70234,-73.89816,Private room,140,7,6,2015-10-08,0.06,5,365\n",
      "\n",
      "54453,MIDTOWN WEST - Large alcove studio,255583,Anka,Manhattan,Hell's Kitchen,40.76548,-73.98474,Shared room,105,6,10,2014-01-07,0.09,1,363\n",
      "\n",
      "54508,Sml Rm in pr Brst  Park Sl great for Med/students,210746,Kathleen R.,Brooklyn,Prospect Heights,40.6787,-73.97262,Private room,100,2,226,2019-06-06,2.12,3,250\n",
      "\n",
      "54544,City Room - Private Penthouse Apt.,256161,Wayne,Manhattan,Harlem,40.81035,-73.94598,Entire home/apt,121,1,104,2019-06-22,1.00,5,247\n",
      "\n",
      "54860,Great apartment with private bathroom and entrance,258164,Jenny,Manhattan,East Harlem,40.79958,-73.94275,Private room,100,5,204,2019-06-23,1.92,1,192\n",
      "\n",
      "55467,Private Garden Apt • New Renovation,260709,Paul,Brooklyn,Williamsburg,40.71625,-73.93845,Entire home/apt,140,2,253,2019-07-02,3.04,1,125\n",
      "\n",
      "55668,\"NOHO/EAST VILLAGE, PRIVATE 1/2 BATH\",88209,Jason,Manhattan,NoHo,40.72773,-73.99134,Private room,130,2,115,2018-12-05,1.17,1,75\n",
      "\n",
      "56467,Cozy East Village Railroad 1 Bed!,267593,Leonardo,Manhattan,East Village,40.72752,-73.98432,Entire home/apt,130,1,204,2019-07-01,2.04,1,192\n",
      "\n",
      "57166,Elegant NYC Pad,272006,Vasili,Queens,Ditmars Steinway,40.77185,-73.90502,Entire home/apt,140,2,17,2019-06-17,0.16,1,292\n",
      "\n",
      "58062,South Slope Green,277394,Linda,Brooklyn,Windsor Terrace,40.6585,-73.98397,Private room,135,2,21,2019-05-17,0.26,1,272\n",
      "\n",
      "58467,\"17 Flr. Manhattan Views, Nr. Subway\",279797,Dave,Manhattan,Roosevelt Island,40.76193,-73.9501,Private room,120,7,17,2019-05-08,0.30,1,341\n",
      "\n",
      "59014,\"Spacious 1BR, Adorable Clean Quiet\",282927,Drica,Manhattan,Lower East Side,40.72052,-73.98589,Entire home/apt,150,3,41,2019-01-02,0.39,1,244\n",
      "\n",
      "59121,\"Nice, clean, safe, convenient 3BR\",204539,Mark,Queens,Ridgewood,40.70411,-73.89934,Entire home/apt,140,14,1,2012-09-17,0.01,5,365\n",
      "\n",
      "59642,Franklin St Flat in Trendy Greenpoint Brooklyn,274782,Betty,Brooklyn,Greenpoint,40.73401,-73.95967,Entire home/apt,135,2,69,2019-05-19,0.67,1,12\n",
      "\n",
      "60611,SpaHa Studio Monthly Rental,292204,Blanca,Manhattan,East Harlem,40.79163,-73.94573,Entire home/apt,125,28,183,2018-09-29,1.83,2,365\n",
      "\n",
      "60948,ACCOMMODATIONS GALORE #2,126607,Laurine,Manhattan,East Harlem,40.80942,-73.93936,Entire home/apt,140,3,135,2019-06-20,1.30,3,192\n",
      "\n",
      "61167,Colorful Private One Bedroom Apt,295760,Greta,Manhattan,Little Italy,40.71961,-73.9954,Entire home/apt,135,2,21,2015-12-12,0.20,1,0\n",
      "\n",
      "61492,Exclusive Room with Private Bath in  LES,297769,Tunji,Manhattan,Chinatown,40.71445,-73.9908,Private room,120,4,171,2019-06-23,1.80,2,353\n",
      "\n",
      "61509,\"Quiet, clean midtown apt w. elevato\",23619,Anna/Fonzy,Manhattan,Midtown,40.75749,-73.96897,Entire home/apt,110,200,92,2019-04-30,0.90,1,140\n",
      "\n",
      "62427,Great East Village Apartment Rental,303882,Brie,Manhattan,East Village,40.7268,-73.99079,Entire home/apt,130,50,56,2019-05-26,0.58,1,56\n",
      "\n",
      "63610,DOMINIQUE'S NY mini efficiency* wifi*metro*quiet,310670,Vie,Bronx,Eastchester,40.88057,-73.83572,Entire home/apt,105,2,38,2019-06-27,0.50,13,365\n",
      "\n",
      "63657,\"Private, Large & Sunny Top Floor Apt  w/W&D\",170510,Renée,Brooklyn,Bedford-Stuyvesant,40.68236,-73.94314,Entire home/apt,135,2,248,2019-06-25,2.39,2,11\n",
      "\n",
      "64107,BROOKLYN  STUDIO APARTMENT,313317,Niya,Brooklyn,Crown Heights,40.6778,-73.94339,Private room,100,3,279,2019-06-24,2.69,1,301\n",
      "\n",
      "64314,cozy bedroom in lovely garden apt,314256,Debbie,Brooklyn,Crown Heights,40.6761,-73.9529,Private room,110,6,50,2019-05-26,3.55,1,0\n",
      "\n",
      "65019,Charming UWS Treehouse Apt,317809,Claire,Manhattan,Upper West Side,40.77956,-73.98098,Entire home/apt,115,2,210,2019-07-06,2.10,1,261\n",
      "\n",
      "65562,CHARMING EAST VILLAGE 2 (or 1) BR,320450,Mary D,Manhattan,East Village,40.72956,-73.98158,Entire home/apt,129,7,5,2019-01-03,0.15,1,231\n",
      "\n",
      "65615,Farmhouse Apartment in Williamsburg,320761,Valerie,Brooklyn,Williamsburg,40.71069,-73.95175,Entire home/apt,130,10,49,2019-06-29,0.48,1,152\n",
      "\n",
      "66451,**Fantastic Williamsburg Apt**,325389,Luis Fernando,Brooklyn,Williamsburg,40.71031,-73.9583,Entire home/apt,140,2,9,2019-02-16,0.11,1,254\n",
      "\n",
      "66718,West Harlem Home Base - Eco-Apt.,136227,Henning,Manhattan,Harlem,40.81322,-73.95306,Entire home/apt,135,6,187,2019-06-23,1.87,1,189\n",
      "\n",
      "66741,Charming Garden Apt in Park Slope,327673,Stefano,Brooklyn,Park Slope,40.67732,-73.98225,Entire home/apt,150,2,214,2019-06-23,2.08,2,263\n",
      "\n",
      "67288,Central Park 1BR sunny condo,101597,Per,Manhattan,East Harlem,40.79603,-73.94903,Entire home/apt,124,28,22,2019-06-15,0.26,1,103\n",
      "\n",
      "67299,Cozy Garden Apartment  in Williamsburg,330347,Adrienne,Brooklyn,Williamsburg,40.71492,-73.96282,Entire home/apt,135,30,56,2019-05-06,0.56,1,42\n",
      "\n",
      "67397,SoHa comfort-by NW Central Park!,332189,Elise,Manhattan,Morningside Heights,40.80393,-73.95838,Private room,122,3,93,2019-06-22,0.93,1,246\n",
      "\n",
      "68099,Cozy room in Upper West Side,323517,Deda,Manhattan,Upper West Side,40.80082,-73.9652,Private room,109,1,104,2019-06-25,1.05,2,364\n",
      "\n",
      "68403,The Cozy Brownstone Inn (discount)!,240427,Naimah,Brooklyn,Bedford-Stuyvesant,40.683,-73.91981,Entire home/apt,145,3,127,2019-06-24,1.25,2,72\n",
      "\n",
      "68900,Bright Beautiful Brooklyn,343250,Jason,Brooklyn,Greenpoint,40.73119,-73.95578,Private room,125,3,6,2016-11-13,0.10,1,325\n",
      "\n",
      "69894,\"Nice renovated apt, prime location!\",352168,Silvia,Manhattan,Upper West Side,40.78,-73.98249,Entire home/apt,150,30,48,2019-06-11,0.55,1,35\n",
      "\n",
      "71248,Bright and lovely 1 bdrm apt in LES,363834,Jennifer,Manhattan,Chinatown,40.71659,-73.98945,Entire home/apt,125,25,43,2019-06-17,0.42,1,102\n",
      "\n",
      "72190,1BR: See Central Park from Terrace!,373085,Hudson,Manhattan,Upper West Side,40.77728,-73.97818,Entire home/apt,110,13,38,2019-02-15,0.39,1,0\n",
      "\n",
      "74333,Alcove Studio w/ outdoor Patio Deck,331328,Amir,Manhattan,East Harlem,40.80892,-73.93985,Entire home/apt,113,14,26,2015-11-25,0.27,3,253\n",
      "\n",
      "74680,One Bedroom Mini studio - Free WIFI,265109,Nazleen,Queens,Astoria,40.77635,-73.93426,Entire home/apt,115,2,198,2019-05-31,2.01,1,257\n",
      "\n",
      "75635,Bright Cozy Chinatown Studio Apt.,401696,Patricia,Manhattan,Lower East Side,40.71876,-73.98394,Entire home/apt,150,3,286,2019-06-27,2.81,1,191\n",
      "\n",
      "77936,Hells Kitchen Garden of Eden,134355,Moss Owen,Manhattan,Hell's Kitchen,40.76248,-73.9913,Private room,150,3,36,2019-06-14,0.36,1,49\n",
      "\n",
      "78919,\"Historic House Boerum Hill, BK, NYC\",422561,Nancy,Brooklyn,Boerum Hill,40.68674,-73.98876,Entire home/apt,135,4,6,2016-02-05,0.10,1,0\n",
      "\n",
      "79782,\"Williamsburg HUGE, PRIVATE BATH - Next to Train!\",430188,Pam,Brooklyn,Williamsburg,40.70516,-73.95455,Private room,120,14,76,2019-03-31,0.76,6,343\n",
      "\n",
      "82549,Columbia Castle in Brooklyn Heights,448312,Christopher,Brooklyn,Brooklyn Heights,40.6926,-73.99832,Private room,100,3,66,2016-09-16,0.68,2,0\n",
      "\n",
      "83446,\"Ft. Greene garden gem, large and convenient\",454756,Leslie,Brooklyn,Fort Greene,40.68819,-73.97258,Entire home/apt,130,35,5,2018-09-03,0.05,1,135\n",
      "\n",
      "84059,So Much Room in Brooklyn,459054,Famous,Brooklyn,Crown Heights,40.67591,-73.94715,Entire home/apt,150,5,5,2018-07-22,0.05,1,0\n",
      "\n",
      "84659,Large Studio--Heart of East Village,462776,Kyle,Manhattan,East Village,40.72843,-73.98895,Entire home/apt,139,1,388,2019-06-26,3.88,1,142\n",
      "\n",
      "86215,MODERN SPACIOUS 2 BR APT DOWNTOWN MANHATTAN,327900,T,Manhattan,Lower East Side,40.71965,-73.98766,Entire home/apt,150,2,151,2019-06-24,1.51,2,52\n",
      "\n",
      "93313,MAISON DES SIRENES 2,25183,Nathalie,Brooklyn,Bedford-Stuyvesant,40.68314,-73.93963,Entire home/apt,120,2,75,2019-06-23,0.76,2,237\n",
      "\n",
      "94209,LARGE 1BR (CONV 2BR) CROWN HEIGHTS,503800,Sadatu,Brooklyn,Crown Heights,40.67473,-73.94494,Entire home/apt,100,90,0,,,1,365\n",
      "\n",
      "94783,\"Beautiful, Bright’s, Warm & Spacious 1.5BR Apt\",473113,Keishera,Brooklyn,Crown Heights,40.67174,-73.95663,Entire home/apt,120,5,104,2019-06-21,1.04,1,272\n",
      "\n",
      "95747,Lovely 1BR in Tree-lined WBurg,509341,Tessa,Brooklyn,Williamsburg,40.71055,-73.95098,Entire home/apt,140,7,13,2016-07-18,0.13,1,0\n",
      "\n",
      "98330,LOVELY APARTMENT IN THE HEART OF NY,31374,Shon,Manhattan,Kips Bay,40.73877,-73.97707,Entire home/apt,125,4,1,2012-01-03,0.01,3,181\n",
      "\n",
      "98663,Groovy NYC Chelsea Pad,520279,Peter Michael,Manhattan,Chelsea,40.74893,-73.99544,Entire home/apt,130,30,19,2018-06-11,0.19,1,189\n",
      "\n",
      "99085,Sunny Bklyn Jewel  Fort Greene JULY  - AUG 2019,522164,Wanda,Brooklyn,Fort Greene,40.68795,-73.97332,Entire home/apt,123,30,15,2019-05-01,0.15,1,189\n",
      "\n",
      "100186,Large Brand New Park Slope 1BR,526805,Mi,Brooklyn,Gowanus,40.66918,-73.99187,Entire home/apt,130,7,98,2019-06-28,0.99,1,35\n",
      "\n",
      "101053,Colorful Artistic Williamsburg Apt,530032,Lee And Tara,Brooklyn,Williamsburg,40.71125,-73.95613,Private room,100,3,31,2019-03-01,0.31,1,0\n",
      "\n",
      "105510,Private 1-Bedroom Apt in Townhouse,322716,Alex,Brooklyn,Crown Heights,40.67086,-73.94872,Entire home/apt,100,30,15,2019-01-05,0.16,5,282\n",
      "\n",
      "106647,Tree lined block modern apartment,552679,Olivia,Brooklyn,Bedford-Stuyvesant,40.68505,-73.95684,Entire home/apt,135,2,86,2019-06-16,0.87,1,102\n",
      "\n",
      "107895,Riverside Charm with Fire Place,3088389,Kai,Manhattan,Upper West Side,40.77944,-73.98567,Entire home/apt,120,5,49,2019-06-19,0.56,1,201\n",
      "\n",
      "114969,\"Manhattan Studio, Perfect Location\",582598,Andrey,Manhattan,Midtown,40.75579,-73.96699,Entire home/apt,145,6,39,2018-09-24,0.40,1,0\n",
      "\n",
      "115748,1 BDRM Apt-Weekend Sublease,585166,Lilly,Queens,Astoria,40.76434,-73.92132,Entire home/apt,110,4,30,2019-06-16,0.32,1,363\n",
      "\n",
      "117425,\"Conveniently Located, Sunny Brooklyn Heights!\",593115,LuLu,Brooklyn,Brooklyn Heights,40.69263,-73.99438,Entire home/apt,150,30,95,2018-05-26,0.96,1,281\n",
      "\n",
      "118061,Style in Stuyvesant Heights,2248897,Roberta,Brooklyn,Bedford-Stuyvesant,40.68448,-73.92747,Entire home/apt,110,4,70,2019-06-28,0.75,1,283\n",
      "\n",
      "123784,NYC Studio for Rent in Townhouse,617990,Christopher,Manhattan,Harlem,40.80481,-73.94794,Entire home/apt,110,2,142,2019-06-16,1.44,2,301\n",
      "\n",
      "128975,City Room - Street View Apt,256161,Wayne,Manhattan,Harlem,40.81333,-73.94453,Entire home/apt,122,1,116,2019-06-13,1.18,5,271\n",
      "\n",
      "132695,Perfect Williamsburg Summer Haven,507186,Holly,Brooklyn,Williamsburg,40.71109,-73.94332,Entire home/apt,125,2,15,2016-06-06,0.15,1,0\n",
      "\n",
      "133025,Midtown cozy convenient,653405,Tracy,Manhattan,Murray Hill,40.7463,-73.97926,Private room,130,4,105,2019-06-06,1.07,1,193\n",
      "\n",
      "135706,The Ground Studio - West Side,665013,Jeff,Manhattan,Chelsea,40.74488,-74.001,Entire home/apt,132,4,10,2017-01-01,0.10,1,0\n",
      "\n",
      "138216,Sunny and Spacious Designer's Home,674970,Michael,Brooklyn,Greenpoint,40.72212,-73.94254,Entire home/apt,141,5,8,2018-07-08,0.21,1,9\n",
      "\n",
      "141154,Affordable Furnished Apartment,686768,Mark,Brooklyn,Boerum Hill,40.6858,-73.9828,Entire home/apt,120,3,232,2019-06-22,2.41,1,221\n",
      "\n",
      "142069,\"EAST VILLAGE STUDIO, sunny & quiet\",277747,Josh,Manhattan,East Village,40.72485,-73.97813,Entire home/apt,150,4,22,2014-11-10,0.23,1,0\n",
      "\n",
      "145064,The Heart of Prime Williamsburg,404424,Oliver,Brooklyn,Williamsburg,40.71943,-73.9565,Entire home/apt,145,7,8,2014-06-06,0.08,1,0\n",
      "\n",
      "151199,Astoria-Private Home NYC-,722320,Gladys & Bob,Queens,Astoria,40.75725,-73.91098,Entire home/apt,129,1,414,2019-07-03,4.34,1,245\n",
      "\n",
      "152071,Park Slope Apartment,731855,Wendy,Brooklyn,Park Slope,40.67359,-73.97904,Entire home/apt,150,2,0,,,1,8\n",
      "\n",
      "153405,Greenpoint Spacious Loft,737585,Pat,Brooklyn,Greenpoint,40.72937,-73.95671,Entire home/apt,125,2,104,2019-06-16,1.09,1,22\n",
      "\n",
      "158913,\"Nice, cozy, neat apt Greenpoint,BK\",762563,Lennny & Megan,Brooklyn,Greenpoint,40.72489,-73.95494,Entire home/apt,130,5,4,2015-03-13,0.05,1,0\n",
      "\n",
      "158955,PRIVATE and SUNNY Williamsburg Apt!,465589,Amia,Brooklyn,Williamsburg,40.70867,-73.94284,Entire home/apt,139,2,385,2019-06-29,4.00,1,222\n",
      "\n",
      "159913,\"Chelsea living, 2BR best location\",759883,Kaye,Manhattan,Chelsea,40.74346,-73.99882,Private room,150,2,37,2019-07-03,1.79,1,0\n",
      "\n",
      "Parsing ERROR:  161996,Manhattan Penthouse-Max.12 guests,1856604,\"Robert \"\"Bob\"\"\",Manhattan,Harlem,40.83096,-73.94633,Entire home/apt,295,3,227,2019-06-26,2.33,1,247\n",
      "\n"
     ]
    },
    {
     "ename": "SystemExit",
     "evalue": "1",
     "output_type": "error",
     "traceback": [
      "An exception has occurred, use %tb to see the full traceback.\n",
      "\u001b[0;31mSystemExit\u001b[0m\u001b[0;31m:\u001b[0m 1\n"
     ]
    }
   ],
   "source": [
    "for line in lines[1:]:\n",
    "    columns = line.split(',')\n",
    "    clean_columns = [] # this will contain the correctly-parsed columns\n",
    "    in_quote = False  \n",
    "    for x in columns: # we go through the \"dirty\" columns of data. We will set in_quote to True when we are inside a quote\n",
    "        if not in_quote:\n",
    "            clean_columns += [ x ] # we aren't in a quote, we can add the column to the clean ones\n",
    "            if '\"' in x:  # x contains a quote, we will have to handle the next columns differently\n",
    "                in_quote = True\n",
    "        else:\n",
    "            clean_columns[-1] += x  # we are in a quote, we musn't create a new column. Instead, we append the current column to the last one in columns_clean\n",
    "            if '\"' in x:  # this is our closing quote, next column will be out of the quote\n",
    "                in_quote = False\n",
    "    try:\n",
    "        price = int(clean_columns[9])\n",
    "    except:\n",
    "        print(\"Parsing ERROR: \",line)\n",
    "        sys.exit(1)\n",
    "    if price >= 100 and price <= 150:\n",
    "        print(line)"
   ]
  },
  {
   "cell_type": "markdown",
   "metadata": {
    "slideshow": {
     "slide_type": "fragment"
    }
   },
   "source": [
    "We still have an issue!"
   ]
  },
  {
   "cell_type": "markdown",
   "metadata": {
    "slideshow": {
     "slide_type": "slide"
    }
   },
   "source": [
    "<img src=\"https://upload.wikimedia.org/wikipedia/commons/thumb/d/dd/Antu_task-complete.svg/1024px-Antu_task-complete.svg.png\" width=50 align=left/>\n",
    "\n",
    "Check the data file: \n",
    "* why is line 461 not parsed correctly by our program?\n",
    "* how can we fix these 2 problems and parse the file correctly?"
   ]
  },
  {
   "cell_type": "markdown",
   "metadata": {
    "slideshow": {
     "slide_type": "slide"
    }
   },
   "source": [
    "Here is a possible solution to address the \"escaped quote\" and the \"multiple quote\" issues:"
   ]
  },
  {
   "cell_type": "code",
   "execution_count": 78,
   "metadata": {
    "slideshow": {
     "slide_type": "fragment"
    }
   },
   "outputs": [
    {
     "name": "stdout",
     "output_type": "stream",
     "text": [
      "2539,Clean & quiet apt home by the park,2787,John,Brooklyn,Kensington,40.64749,-73.97237,Private room,149,1,9,2018-10-19,0.21,6,365\n",
      "\n",
      "3647,THE VILLAGE OF HARLEM....NEW YORK !,4632,Elisabeth,Manhattan,Harlem,40.80902,-73.9419,Private room,150,3,0,,,1,365\n",
      "\n",
      "5238,Cute & Cozy Lower East Side 1 bdrm,7549,Ben,Manhattan,Chinatown,40.71344,-73.99037,Entire home/apt,150,1,160,2019-06-09,1.33,4,188\n",
      "\n",
      "5295,Beautiful 1br on Upper West Side,7702,Lena,Manhattan,Upper West Side,40.80316,-73.96545,Entire home/apt,135,5,53,2019-06-22,0.43,1,6\n",
      "\n",
      "6090,West Village Nest - Superhost,11975,Alina,Manhattan,West Village,40.7353,-74.00525,Entire home/apt,120,90,27,2018-10-31,0.22,1,0\n",
      "\n",
      "6848,Only 2 stops to Manhattan studio,15991,Allen & Irina,Brooklyn,Williamsburg,40.70837,-73.95352,Entire home/apt,140,2,148,2019-06-29,1.20,1,46\n",
      "\n",
      "7322,Chelsea Perfect,18946,Doti,Manhattan,Chelsea,40.74192,-73.99501,Private room,140,1,260,2019-07-01,2.12,1,12\n",
      "\n",
      "8024,CBG CtyBGd HelpsHaiti rm#1:1-4,22486,Lisel,Brooklyn,Park Slope,40.68069,-73.97706,Private room,130,2,130,2019-07-01,1.09,6,347\n",
      "\n",
      "8110,CBG Helps Haiti Rm #2,22486,Lisel,Brooklyn,Park Slope,40.68001,-73.97865,Private room,110,2,71,2019-07-02,0.61,6,304\n",
      "\n",
      "8490,\"MAISON DES SIRENES1,bohemian apartment\",25183,Nathalie,Brooklyn,Bedford-Stuyvesant,40.68371,-73.94028,Entire home/apt,120,2,88,2019-06-19,0.73,2,233\n",
      "\n",
      "9357,Midtown Pied-a-terre,30193,Tommi,Manhattan,Hell's Kitchen,40.76715,-73.98533,Entire home/apt,150,10,58,2017-08-13,0.49,1,75\n",
      "\n",
      "11943,Country space in the city,45445,Harriet,Brooklyn,Flatbush,40.63702,-73.96327,Private room,150,1,0,,,1,365\n",
      "\n",
      "12299,Beautiful Sunny Park Slope Brooklyn,47610,Abdul,Brooklyn,South Slope,40.66278,-73.97966,Entire home/apt,120,3,15,2019-05-27,0.39,1,345\n",
      "\n",
      "12303,1bdr w private bath. in lofty apt,47618,Yolande,Brooklyn,Fort Greene,40.69673,-73.97584,Private room,120,7,25,2018-09-30,0.23,1,311\n",
      "\n",
      "12318,West Side Retreat,16800,Cyn,Manhattan,Upper West Side,40.79009,-73.97927,Private room,135,4,81,2019-06-16,0.69,1,273\n",
      "\n",
      "12343,BEST BET IN HARLEM,47727,Earl,Manhattan,Harlem,40.81175,-73.94478,Entire home/apt,150,7,97,2019-06-13,0.84,1,309\n",
      "\n",
      "12627,Entire apartment in central Brooklyn neighborhood.,49670,Rana,Brooklyn,Prospect-Lefferts Gardens,40.65944,-73.96238,Entire home/apt,150,29,11,2019-06-05,0.49,1,95\n",
      "\n",
      "12937,\"1 Stop fr. Manhattan! Private Suite,Landmark Block\",50124,Orestes,Queens,Long Island City,40.74771,-73.9474,Private room,130,3,248,2019-07-01,2.25,1,215\n",
      "\n",
      "12940,Charming Brownstone 3 - Near PRATT,50148,Adreinne,Brooklyn,Bedford-Stuyvesant,40.68111,-73.95591,Entire home/apt,110,7,61,2019-05-25,0.52,1,265\n",
      "\n",
      "13050,bright and stylish duplex,50846,Jennifer,Brooklyn,Bedford-Stuyvesant,40.68554,-73.9409,Entire home/apt,115,3,11,2017-01-01,0.10,1,0\n",
      "\n",
      "14314,Greenpoint Place...Has It All! ,56246,Jeanne,Brooklyn,Greenpoint,40.73506,-73.95392,Entire home/apt,144,2,328,2019-06-29,2.82,1,234\n",
      "\n",
      "14377,Williamsburg 1 bedroom Apartment,56512,Joanna,Brooklyn,Williamsburg,40.70881,-73.9593,Entire home/apt,150,30,105,2019-06-22,0.90,1,30\n",
      "\n",
      "14991,\"Great Location, Manhattan Bedroom!\",59023,Bianca,Manhattan,Lower East Side,40.72004,-73.99104,Private room,110,5,19,2019-05-18,0.17,1,301\n",
      "\n",
      "17747,BLUE TRIM GUEST HOUSE,68599,George,Brooklyn,Clinton Hill,40.68346,-73.96374,Private room,105,2,105,2019-06-26,0.92,1,304\n",
      "\n",
      "18728,Beautiful Meatpacking District Loft,71876,DAVID And RICK,Manhattan,Chelsea,40.74138,-74.00197,Private room,150,3,167,2019-05-28,1.65,1,295\n",
      "\n",
      "18764,Cozy 2 BR in Williamsburg ,72014,Lulú,Brooklyn,Williamsburg,40.71154,-73.96112,Private room,145,3,61,2019-04-22,0.54,4,238\n",
      "\n",
      "19159,Spacious luminous apt Upper West NYC,73051,Sybilla,Manhattan,Harlem,40.82915,-73.95136,Entire home/apt,110,31,54,2019-03-23,0.49,1,209\n",
      "\n",
      "19282,\"Sunny, Spacious Top Floor Haven\",73469,Gaia,Brooklyn,Flatbush,40.65401,-73.96323,Entire home/apt,130,6,16,2019-06-15,0.15,1,38\n",
      "\n",
      "19812,2 bedroom Williamsburg Apt - Bedford L stop,74857,Starlee,Brooklyn,Williamsburg,40.71833,-73.95748,Entire home/apt,105,3,61,2018-08-09,0.53,1,272\n",
      "\n",
      "20734,Spacious Prospect Heights Apartment,78460,Sean & Lynette,Brooklyn,Prospect Heights,40.68233,-73.97261,Entire home/apt,131,4,166,2019-06-27,3.40,1,207\n",
      "\n",
      "20913,Charming 1 bed GR8 WBurg LOCATION!,79402,Christiana,Brooklyn,Williamsburg,40.70984,-73.95775,Entire home/apt,100,5,168,2018-07-22,1.57,1,0\n",
      "\n",
      "21293,Sunny Apartment in Artist Home,44145,Tyrome,Brooklyn,Bushwick,40.70093,-73.92609,Entire home/apt,105,3,118,2019-06-18,1.05,2,9\n",
      "\n",
      "21456,Light-filled classic Central Park ,42032,Dana,Manhattan,Upper West Side,40.79764,-73.96177,Entire home/apt,140,3,81,2019-07-07,0.71,1,198\n",
      "\n",
      "22911,The Stuydio Modern and Light Filled,87773,Shelly,Brooklyn,Bedford-Stuyvesant,40.68413,-73.92357,Entire home/apt,125,7,139,2018-10-28,1.23,2,311\n",
      "\n",
      "24143,\"Williamsburg—Steps To Subway, Private Bath&Balcony\",97219,Seth,Brooklyn,Williamsburg,40.71332,-73.94177,Private room,101,3,335,2019-05-29,3.02,1,152\n",
      "\n",
      "25235,Large 2 Bedroom Great for Groups!,87773,Shelly,Brooklyn,Bedford-Stuyvesant,40.68373,-73.92377,Entire home/apt,125,90,162,2019-06-28,1.46,2,137\n",
      "\n",
      "25696,\"1,800 sq foot in luxury building\",107628,Dena,Manhattan,Harlem,40.8092,-73.94421,Private room,100,2,170,2019-06-23,1.61,1,346\n",
      "\n",
      "26520,\"Cozy Room #3, Landmark Home 1 Block to PRATT\",51038,Erica,Brooklyn,Clinton Hill,40.68698,-73.96572,Private room,125,2,19,2019-06-02,0.20,6,250\n",
      "\n",
      "26559,Beautiful Apartment East Village,112793,Sally,Manhattan,East Village,40.7288,-73.98192,Entire home/apt,140,7,12,2017-12-11,0.13,1,164\n",
      "\n",
      "26785,Park Slope Green Guest House,42273,Dani,Brooklyn,South Slope,40.66853,-73.98912,Entire home/apt,120,30,467,2018-12-30,4.22,2,192\n",
      "\n",
      "27883,East Village Sanctuary,120223,Jen,Manhattan,East Village,40.72245,-73.98527,Entire home/apt,100,4,25,2011-12-10,0.23,1,0\n",
      "\n",
      "28907,Garden studio in the Upper East Sid,124352,Lisa,Manhattan,Upper East Side,40.778,-73.94822,Entire home/apt,150,5,21,2017-08-15,0.19,1,189\n",
      "\n",
      "29455,ACCOMMODATIONS GALORE #1,126607,Laurine,Manhattan,Harlem,40.81618,-73.94894,Entire home/apt,120,3,155,2019-06-20,1.42,3,213\n",
      "\n",
      "30927,Unique & Charming small 1br Apt. LES,120335,Cs,Manhattan,Lower East Side,40.71341,-73.98856,Entire home/apt,105,3,32,2019-06-14,0.29,1,16\n",
      "\n",
      "31130,Most Central Location!,117287,Lara,Manhattan,Hell's Kitchen,40.76754,-73.98399,Private room,130,2,50,2019-05-26,0.45,3,234\n",
      "\n",
      "31555,Luminous Beautiful West Village Studio,135619,Tom,Manhattan,West Village,40.73442,-74.00303,Entire home/apt,115,29,26,2019-07-01,0.25,1,12\n",
      "\n",
      "32023,FLAT MACDONOUGH,137974,Khem,Brooklyn,Bedford-Stuyvesant,40.68296,-73.93662,Entire home/apt,125,3,227,2019-06-23,2.09,2,163\n",
      "\n",
      "32037,Huge Private  Floor at The Waverly,116599,Sahr,Brooklyn,Clinton Hill,40.6863,-73.96765,Private room,135,4,84,2019-07-01,0.77,3,365\n",
      "\n",
      "32331,\"Sunny, Cobble Hill Apartment\",139874,Sarah,Brooklyn,Cobble Hill,40.6857,-73.99183,Entire home/apt,140,2,4,2016-04-24,0.04,1,0\n",
      "\n",
      "32363,Fully Furnished Basement Apartment,140025,Fredah,Queens,Flushing,40.74028,-73.83168,Private room,140,2,1,2011-09-19,0.01,1,1\n",
      "\n",
      "32965,FLAT MACDONOUGH GARDEN,137974,Khem,Brooklyn,Bedford-Stuyvesant,40.68281,-73.93524,Entire home/apt,115,3,124,2019-06-20,1.72,2,170\n",
      "\n",
      "36133,Classic Artist Loft Williamsburg,142684,White,Brooklyn,Williamsburg,40.71536,-73.96057,Private room,125,3,155,2019-06-13,1.61,1,1\n",
      "\n",
      "36442,Great location. Spacious on PROSPECT PARK,137432,Paz,Brooklyn,Prospect Heights,40.6741,-73.96595,Entire home/apt,115,15,4,2018-08-27,0.05,1,269\n",
      "\n",
      "36934,Great location in Williamsburg,159370,Viviana,Brooklyn,Williamsburg,40.71363,-73.96398,Entire home/apt,125,6,27,2018-12-27,0.25,1,189\n",
      "\n",
      "39704,\"Private, Large & Sunny 1BR w/W&D\",170510,Renée,Brooklyn,Bedford-Stuyvesant,40.68306,-73.94659,Entire home/apt,135,2,309,2019-06-22,2.86,2,3\n",
      "\n",
      "44161,Light+Open+Airy+Rustic+Modern Loft,193360,Young,Brooklyn,Williamsburg,40.71045,-73.9677,Entire home/apt,150,2,193,2016-07-06,1.78,1,177\n",
      "\n",
      "44212,West Inn 2 - East Village,72062,Bruce,Manhattan,East Village,40.72518,-73.98034,Private room,125,1,84,2019-06-23,0.78,4,310\n",
      "\n",
      "44229,BROOKLYN VICTORIAN STYLE SUITE.....,181376,Carol,Brooklyn,Fort Greene,40.69098,-73.97113,Private room,110,2,213,2019-06-24,2.00,2,321\n",
      "\n",
      "45393,Greenwich Village Stylish Apartment,201297,Myrna,Manhattan,West Village,40.73423,-74.0046,Entire home/apt,150,26,38,2016-04-20,0.36,1,225\n",
      "\n",
      "45542,Clean and Cozy Harlem Apartment,202249,Campbell,Manhattan,Harlem,40.82374,-73.9373,Entire home/apt,100,2,18,2018-12-17,1.79,1,0\n",
      "\n",
      "46544,Park Slope haven 15 mins from Soho,8198,Monica,Brooklyn,Park Slope,40.67994,-73.97863,Entire home/apt,150,5,52,2019-06-05,0.50,1,18\n",
      "\n",
      "46911,Large Room in private Brownstone in Park Slope,210746,Kathleen R.,Brooklyn,Prospect Heights,40.67868,-73.97307,Private room,120,3,51,2019-06-24,0.48,3,250\n",
      "\n",
      "47370,Chelsea Studio sublet 1 - 2 months,214287,Alex,Manhattan,Chelsea,40.74031,-73.99999,Entire home/apt,125,3,3,2015-07-17,0.03,1,0\n",
      "\n",
      "50447,Lovely Apt & Garden;  Legal;  Best Area; Amenities,9744,Laurie,Brooklyn,South Slope,40.6693,-73.98804,Entire home/apt,135,5,151,2019-06-22,1.43,3,162\n",
      "\n",
      "51438,1 Bedroom in 2 Bdrm Apt- Upper East,236421,Jessica,Manhattan,Upper East Side,40.77333,-73.95199,Private room,130,14,0,,,2,0\n",
      "\n",
      "51572,Prime Location in Manhattan,237329,Lee,Manhattan,Chelsea,40.74859,-73.99671,Private room,123,1,375,2019-06-18,3.52,1,328\n",
      "\n",
      "53470,Clean and convenient 2BR apartment,204539,Mark,Queens,Ridgewood,40.70234,-73.89816,Private room,140,7,6,2015-10-08,0.06,5,365\n",
      "\n",
      "54453,MIDTOWN WEST - Large alcove studio,255583,Anka,Manhattan,Hell's Kitchen,40.76548,-73.98474,Shared room,105,6,10,2014-01-07,0.09,1,363\n",
      "\n",
      "54508,Sml Rm in pr Brst  Park Sl great for Med/students,210746,Kathleen R.,Brooklyn,Prospect Heights,40.6787,-73.97262,Private room,100,2,226,2019-06-06,2.12,3,250\n",
      "\n",
      "54544,City Room - Private Penthouse Apt.,256161,Wayne,Manhattan,Harlem,40.81035,-73.94598,Entire home/apt,121,1,104,2019-06-22,1.00,5,247\n",
      "\n",
      "54860,Great apartment with private bathroom and entrance,258164,Jenny,Manhattan,East Harlem,40.79958,-73.94275,Private room,100,5,204,2019-06-23,1.92,1,192\n",
      "\n",
      "55467,Private Garden Apt • New Renovation,260709,Paul,Brooklyn,Williamsburg,40.71625,-73.93845,Entire home/apt,140,2,253,2019-07-02,3.04,1,125\n",
      "\n",
      "55668,\"NOHO/EAST VILLAGE, PRIVATE 1/2 BATH\",88209,Jason,Manhattan,NoHo,40.72773,-73.99134,Private room,130,2,115,2018-12-05,1.17,1,75\n",
      "\n",
      "56467,Cozy East Village Railroad 1 Bed!,267593,Leonardo,Manhattan,East Village,40.72752,-73.98432,Entire home/apt,130,1,204,2019-07-01,2.04,1,192\n",
      "\n",
      "57166,Elegant NYC Pad,272006,Vasili,Queens,Ditmars Steinway,40.77185,-73.90502,Entire home/apt,140,2,17,2019-06-17,0.16,1,292\n",
      "\n",
      "58062,South Slope Green,277394,Linda,Brooklyn,Windsor Terrace,40.6585,-73.98397,Private room,135,2,21,2019-05-17,0.26,1,272\n",
      "\n",
      "58467,\"17 Flr. Manhattan Views, Nr. Subway\",279797,Dave,Manhattan,Roosevelt Island,40.76193,-73.9501,Private room,120,7,17,2019-05-08,0.30,1,341\n",
      "\n",
      "59014,\"Spacious 1BR, Adorable Clean Quiet\",282927,Drica,Manhattan,Lower East Side,40.72052,-73.98589,Entire home/apt,150,3,41,2019-01-02,0.39,1,244\n",
      "\n",
      "59121,\"Nice, clean, safe, convenient 3BR\",204539,Mark,Queens,Ridgewood,40.70411,-73.89934,Entire home/apt,140,14,1,2012-09-17,0.01,5,365\n",
      "\n",
      "59642,Franklin St Flat in Trendy Greenpoint Brooklyn,274782,Betty,Brooklyn,Greenpoint,40.73401,-73.95967,Entire home/apt,135,2,69,2019-05-19,0.67,1,12\n",
      "\n",
      "60611,SpaHa Studio Monthly Rental,292204,Blanca,Manhattan,East Harlem,40.79163,-73.94573,Entire home/apt,125,28,183,2018-09-29,1.83,2,365\n",
      "\n",
      "60948,ACCOMMODATIONS GALORE #2,126607,Laurine,Manhattan,East Harlem,40.80942,-73.93936,Entire home/apt,140,3,135,2019-06-20,1.30,3,192\n",
      "\n",
      "61167,Colorful Private One Bedroom Apt,295760,Greta,Manhattan,Little Italy,40.71961,-73.9954,Entire home/apt,135,2,21,2015-12-12,0.20,1,0\n",
      "\n",
      "61492,Exclusive Room with Private Bath in  LES,297769,Tunji,Manhattan,Chinatown,40.71445,-73.9908,Private room,120,4,171,2019-06-23,1.80,2,353\n",
      "\n",
      "61509,\"Quiet, clean midtown apt w. elevato\",23619,Anna/Fonzy,Manhattan,Midtown,40.75749,-73.96897,Entire home/apt,110,200,92,2019-04-30,0.90,1,140\n",
      "\n",
      "62427,Great East Village Apartment Rental,303882,Brie,Manhattan,East Village,40.7268,-73.99079,Entire home/apt,130,50,56,2019-05-26,0.58,1,56\n",
      "\n",
      "63610,DOMINIQUE'S NY mini efficiency* wifi*metro*quiet,310670,Vie,Bronx,Eastchester,40.88057,-73.83572,Entire home/apt,105,2,38,2019-06-27,0.50,13,365\n",
      "\n",
      "63657,\"Private, Large & Sunny Top Floor Apt  w/W&D\",170510,Renée,Brooklyn,Bedford-Stuyvesant,40.68236,-73.94314,Entire home/apt,135,2,248,2019-06-25,2.39,2,11\n",
      "\n",
      "64107,BROOKLYN  STUDIO APARTMENT,313317,Niya,Brooklyn,Crown Heights,40.6778,-73.94339,Private room,100,3,279,2019-06-24,2.69,1,301\n",
      "\n",
      "64314,cozy bedroom in lovely garden apt,314256,Debbie,Brooklyn,Crown Heights,40.6761,-73.9529,Private room,110,6,50,2019-05-26,3.55,1,0\n",
      "\n",
      "65019,Charming UWS Treehouse Apt,317809,Claire,Manhattan,Upper West Side,40.77956,-73.98098,Entire home/apt,115,2,210,2019-07-06,2.10,1,261\n",
      "\n",
      "65562,CHARMING EAST VILLAGE 2 (or 1) BR,320450,Mary D,Manhattan,East Village,40.72956,-73.98158,Entire home/apt,129,7,5,2019-01-03,0.15,1,231\n",
      "\n",
      "65615,Farmhouse Apartment in Williamsburg,320761,Valerie,Brooklyn,Williamsburg,40.71069,-73.95175,Entire home/apt,130,10,49,2019-06-29,0.48,1,152\n",
      "\n",
      "66451,**Fantastic Williamsburg Apt**,325389,Luis Fernando,Brooklyn,Williamsburg,40.71031,-73.9583,Entire home/apt,140,2,9,2019-02-16,0.11,1,254\n",
      "\n",
      "66718,West Harlem Home Base - Eco-Apt.,136227,Henning,Manhattan,Harlem,40.81322,-73.95306,Entire home/apt,135,6,187,2019-06-23,1.87,1,189\n",
      "\n",
      "66741,Charming Garden Apt in Park Slope,327673,Stefano,Brooklyn,Park Slope,40.67732,-73.98225,Entire home/apt,150,2,214,2019-06-23,2.08,2,263\n",
      "\n",
      "67288,Central Park 1BR sunny condo,101597,Per,Manhattan,East Harlem,40.79603,-73.94903,Entire home/apt,124,28,22,2019-06-15,0.26,1,103\n",
      "\n",
      "67299,Cozy Garden Apartment  in Williamsburg,330347,Adrienne,Brooklyn,Williamsburg,40.71492,-73.96282,Entire home/apt,135,30,56,2019-05-06,0.56,1,42\n",
      "\n",
      "67397,SoHa comfort-by NW Central Park!,332189,Elise,Manhattan,Morningside Heights,40.80393,-73.95838,Private room,122,3,93,2019-06-22,0.93,1,246\n",
      "\n",
      "68099,Cozy room in Upper West Side,323517,Deda,Manhattan,Upper West Side,40.80082,-73.9652,Private room,109,1,104,2019-06-25,1.05,2,364\n",
      "\n",
      "68403,The Cozy Brownstone Inn (discount)!,240427,Naimah,Brooklyn,Bedford-Stuyvesant,40.683,-73.91981,Entire home/apt,145,3,127,2019-06-24,1.25,2,72\n",
      "\n",
      "68900,Bright Beautiful Brooklyn,343250,Jason,Brooklyn,Greenpoint,40.73119,-73.95578,Private room,125,3,6,2016-11-13,0.10,1,325\n",
      "\n",
      "69894,\"Nice renovated apt, prime location!\",352168,Silvia,Manhattan,Upper West Side,40.78,-73.98249,Entire home/apt,150,30,48,2019-06-11,0.55,1,35\n",
      "\n",
      "71248,Bright and lovely 1 bdrm apt in LES,363834,Jennifer,Manhattan,Chinatown,40.71659,-73.98945,Entire home/apt,125,25,43,2019-06-17,0.42,1,102\n",
      "\n",
      "72190,1BR: See Central Park from Terrace!,373085,Hudson,Manhattan,Upper West Side,40.77728,-73.97818,Entire home/apt,110,13,38,2019-02-15,0.39,1,0\n",
      "\n",
      "74333,Alcove Studio w/ outdoor Patio Deck,331328,Amir,Manhattan,East Harlem,40.80892,-73.93985,Entire home/apt,113,14,26,2015-11-25,0.27,3,253\n",
      "\n",
      "74680,One Bedroom Mini studio - Free WIFI,265109,Nazleen,Queens,Astoria,40.77635,-73.93426,Entire home/apt,115,2,198,2019-05-31,2.01,1,257\n",
      "\n",
      "75635,Bright Cozy Chinatown Studio Apt.,401696,Patricia,Manhattan,Lower East Side,40.71876,-73.98394,Entire home/apt,150,3,286,2019-06-27,2.81,1,191\n",
      "\n",
      "77936,Hells Kitchen Garden of Eden,134355,Moss Owen,Manhattan,Hell's Kitchen,40.76248,-73.9913,Private room,150,3,36,2019-06-14,0.36,1,49\n",
      "\n",
      "78919,\"Historic House Boerum Hill, BK, NYC\",422561,Nancy,Brooklyn,Boerum Hill,40.68674,-73.98876,Entire home/apt,135,4,6,2016-02-05,0.10,1,0\n",
      "\n",
      "79782,\"Williamsburg HUGE, PRIVATE BATH - Next to Train!\",430188,Pam,Brooklyn,Williamsburg,40.70516,-73.95455,Private room,120,14,76,2019-03-31,0.76,6,343\n",
      "\n",
      "82549,Columbia Castle in Brooklyn Heights,448312,Christopher,Brooklyn,Brooklyn Heights,40.6926,-73.99832,Private room,100,3,66,2016-09-16,0.68,2,0\n",
      "\n",
      "83446,\"Ft. Greene garden gem, large and convenient\",454756,Leslie,Brooklyn,Fort Greene,40.68819,-73.97258,Entire home/apt,130,35,5,2018-09-03,0.05,1,135\n",
      "\n",
      "84059,So Much Room in Brooklyn,459054,Famous,Brooklyn,Crown Heights,40.67591,-73.94715,Entire home/apt,150,5,5,2018-07-22,0.05,1,0\n",
      "\n",
      "84659,Large Studio--Heart of East Village,462776,Kyle,Manhattan,East Village,40.72843,-73.98895,Entire home/apt,139,1,388,2019-06-26,3.88,1,142\n",
      "\n",
      "86215,MODERN SPACIOUS 2 BR APT DOWNTOWN MANHATTAN,327900,T,Manhattan,Lower East Side,40.71965,-73.98766,Entire home/apt,150,2,151,2019-06-24,1.51,2,52\n",
      "\n",
      "93313,MAISON DES SIRENES 2,25183,Nathalie,Brooklyn,Bedford-Stuyvesant,40.68314,-73.93963,Entire home/apt,120,2,75,2019-06-23,0.76,2,237\n",
      "\n",
      "94209,LARGE 1BR (CONV 2BR) CROWN HEIGHTS,503800,Sadatu,Brooklyn,Crown Heights,40.67473,-73.94494,Entire home/apt,100,90,0,,,1,365\n",
      "\n",
      "94783,\"Beautiful, Bright’s, Warm & Spacious 1.5BR Apt\",473113,Keishera,Brooklyn,Crown Heights,40.67174,-73.95663,Entire home/apt,120,5,104,2019-06-21,1.04,1,272\n",
      "\n",
      "95747,Lovely 1BR in Tree-lined WBurg,509341,Tessa,Brooklyn,Williamsburg,40.71055,-73.95098,Entire home/apt,140,7,13,2016-07-18,0.13,1,0\n",
      "\n",
      "98330,LOVELY APARTMENT IN THE HEART OF NY,31374,Shon,Manhattan,Kips Bay,40.73877,-73.97707,Entire home/apt,125,4,1,2012-01-03,0.01,3,181\n",
      "\n",
      "98663,Groovy NYC Chelsea Pad,520279,Peter Michael,Manhattan,Chelsea,40.74893,-73.99544,Entire home/apt,130,30,19,2018-06-11,0.19,1,189\n",
      "\n",
      "99085,Sunny Bklyn Jewel  Fort Greene JULY  - AUG 2019,522164,Wanda,Brooklyn,Fort Greene,40.68795,-73.97332,Entire home/apt,123,30,15,2019-05-01,0.15,1,189\n",
      "\n",
      "100186,Large Brand New Park Slope 1BR,526805,Mi,Brooklyn,Gowanus,40.66918,-73.99187,Entire home/apt,130,7,98,2019-06-28,0.99,1,35\n",
      "\n",
      "101053,Colorful Artistic Williamsburg Apt,530032,Lee And Tara,Brooklyn,Williamsburg,40.71125,-73.95613,Private room,100,3,31,2019-03-01,0.31,1,0\n",
      "\n",
      "105510,Private 1-Bedroom Apt in Townhouse,322716,Alex,Brooklyn,Crown Heights,40.67086,-73.94872,Entire home/apt,100,30,15,2019-01-05,0.16,5,282\n",
      "\n",
      "106647,Tree lined block modern apartment,552679,Olivia,Brooklyn,Bedford-Stuyvesant,40.68505,-73.95684,Entire home/apt,135,2,86,2019-06-16,0.87,1,102\n",
      "\n",
      "107895,Riverside Charm with Fire Place,3088389,Kai,Manhattan,Upper West Side,40.77944,-73.98567,Entire home/apt,120,5,49,2019-06-19,0.56,1,201\n",
      "\n",
      "114969,\"Manhattan Studio, Perfect Location\",582598,Andrey,Manhattan,Midtown,40.75579,-73.96699,Entire home/apt,145,6,39,2018-09-24,0.40,1,0\n",
      "\n",
      "115748,1 BDRM Apt-Weekend Sublease,585166,Lilly,Queens,Astoria,40.76434,-73.92132,Entire home/apt,110,4,30,2019-06-16,0.32,1,363\n",
      "\n",
      "117425,\"Conveniently Located, Sunny Brooklyn Heights!\",593115,LuLu,Brooklyn,Brooklyn Heights,40.69263,-73.99438,Entire home/apt,150,30,95,2018-05-26,0.96,1,281\n",
      "\n",
      "118061,Style in Stuyvesant Heights,2248897,Roberta,Brooklyn,Bedford-Stuyvesant,40.68448,-73.92747,Entire home/apt,110,4,70,2019-06-28,0.75,1,283\n",
      "\n",
      "123784,NYC Studio for Rent in Townhouse,617990,Christopher,Manhattan,Harlem,40.80481,-73.94794,Entire home/apt,110,2,142,2019-06-16,1.44,2,301\n",
      "\n",
      "128975,City Room - Street View Apt,256161,Wayne,Manhattan,Harlem,40.81333,-73.94453,Entire home/apt,122,1,116,2019-06-13,1.18,5,271\n",
      "\n",
      "132695,Perfect Williamsburg Summer Haven,507186,Holly,Brooklyn,Williamsburg,40.71109,-73.94332,Entire home/apt,125,2,15,2016-06-06,0.15,1,0\n",
      "\n",
      "133025,Midtown cozy convenient,653405,Tracy,Manhattan,Murray Hill,40.7463,-73.97926,Private room,130,4,105,2019-06-06,1.07,1,193\n",
      "\n",
      "135706,The Ground Studio - West Side,665013,Jeff,Manhattan,Chelsea,40.74488,-74.001,Entire home/apt,132,4,10,2017-01-01,0.10,1,0\n",
      "\n",
      "138216,Sunny and Spacious Designer's Home,674970,Michael,Brooklyn,Greenpoint,40.72212,-73.94254,Entire home/apt,141,5,8,2018-07-08,0.21,1,9\n",
      "\n",
      "141154,Affordable Furnished Apartment,686768,Mark,Brooklyn,Boerum Hill,40.6858,-73.9828,Entire home/apt,120,3,232,2019-06-22,2.41,1,221\n",
      "\n",
      "142069,\"EAST VILLAGE STUDIO, sunny & quiet\",277747,Josh,Manhattan,East Village,40.72485,-73.97813,Entire home/apt,150,4,22,2014-11-10,0.23,1,0\n",
      "\n",
      "145064,The Heart of Prime Williamsburg,404424,Oliver,Brooklyn,Williamsburg,40.71943,-73.9565,Entire home/apt,145,7,8,2014-06-06,0.08,1,0\n",
      "\n",
      "151199,Astoria-Private Home NYC-,722320,Gladys & Bob,Queens,Astoria,40.75725,-73.91098,Entire home/apt,129,1,414,2019-07-03,4.34,1,245\n",
      "\n",
      "152071,Park Slope Apartment,731855,Wendy,Brooklyn,Park Slope,40.67359,-73.97904,Entire home/apt,150,2,0,,,1,8\n",
      "\n",
      "153405,Greenpoint Spacious Loft,737585,Pat,Brooklyn,Greenpoint,40.72937,-73.95671,Entire home/apt,125,2,104,2019-06-16,1.09,1,22\n",
      "\n",
      "158913,\"Nice, cozy, neat apt Greenpoint,BK\",762563,Lennny & Megan,Brooklyn,Greenpoint,40.72489,-73.95494,Entire home/apt,130,5,4,2015-03-13,0.05,1,0\n",
      "\n",
      "158955,PRIVATE and SUNNY Williamsburg Apt!,465589,Amia,Brooklyn,Williamsburg,40.70867,-73.94284,Entire home/apt,139,2,385,2019-06-29,4.00,1,222\n",
      "\n",
      "159913,\"Chelsea living, 2BR best location\",759883,Kaye,Manhattan,Chelsea,40.74346,-73.99882,Private room,150,2,37,2019-07-03,1.79,1,0\n",
      "\n",
      "162508,Beautiful Brooklyn Oasis ,776645,Placid,Brooklyn,Crown Heights,40.67212,-73.9506,Entire home/apt,130,2,29,2019-06-28,0.35,1,119\n",
      "\n",
      "164989,\"*SoHo: Clean, Safe, Private, Peaceful Bedroom (A)*\",69439,Jade,Manhattan,SoHo,40.72351,-73.99683,Private room,140,2,54,2019-06-16,0.56,1,221\n",
      "\n",
      "168123,\"Sunny, quiet, legal homelike suite-Pk Slope South\",720558,Sara,Brooklyn,South Slope,40.66085,-73.98537,Entire home/apt,105,28,101,2019-07-01,1.06,1,167\n",
      "\n",
      "169483,Very close to Downtown Awesome Private Apartment,807642,Jeffrey,Brooklyn,Gravesend,40.60452,-73.97103,Entire home/apt,106,7,0,,,2,0\n",
      "\n",
      "172700,\"Sunny, cozy room in Lower East Side\",302772,Cheryl,Manhattan,Lower East Side,40.71473,-73.98842,Private room,115,3,3,2016-02-15,0.04,2,337\n",
      "\n",
      "174527,Cozy private family home in Bushwick,833926,Kris,Brooklyn,Bushwick,40.69055,-73.92357,Entire home/apt,150,2,11,2018-10-28,0.46,1,0\n",
      "\n",
      "176653,East Village bedroom w rooftop,844862,Cj,Manhattan,East Village,40.72974,-73.98201,Private room,100,4,49,2019-05-07,0.51,2,43\n",
      "\n",
      "179670,High-end doorman bldg in the LES,21475,Milan,Manhattan,Lower East Side,40.72019,-73.98217,Private room,120,2,99,2019-06-27,1.04,1,345\n",
      "\n",
      "180507,Ultra Modern NYC Garden Apartment,864735,Jason,Queens,Astoria,40.75744,-73.92163,Entire home/apt,107,30,21,2018-12-01,0.22,8,200\n",
      "\n",
      "182069,Cozy studio Apartment in Upper East,39260,Mat,Manhattan,East Harlem,40.79056,-73.9468,Entire home/apt,120,2,86,2019-06-20,0.91,1,268\n",
      "\n",
      "182177,A PRIVATE FLAT / APARTMENT- $SPECIAL$,873273,Christian & Carla,Bronx,Allerton,40.86466,-73.85709,Entire home/apt,125,2,271,2019-06-20,2.84,2,347\n",
      "\n",
      "187488,WEST VILLAGE LRG CLEAN SUNNY PRIVATE BDRM,871727,Village,Manhattan,West Village,40.73712,-74.00166,Private room,100,30,5,2018-12-03,0.07,1,359\n",
      "\n",
      "190974,Beautiful Grdn. Apt. in Park Slope,874471,Alan,Brooklyn,Park Slope,40.66944,-73.98083,Entire home/apt,130,3,179,2019-05-29,2.02,1,273\n",
      "\n",
      "191075,Sun-drenched East Village Penthouse,923915,Matthew,Manhattan,East Village,40.72566,-73.97748,Private room,110,3,81,2019-03-28,0.85,2,274\n",
      "\n",
      "193105,Columbus Circle Luxury Bldg - Private Room&Bath,936114,Marcela,Manhattan,Hell's Kitchen,40.7709,-73.99181,Private room,150,28,43,2019-06-29,0.45,2,258\n",
      "\n",
      "193853,Quiet Chelsea Studio w/Charm,48599,Anastasia,Manhattan,Chelsea,40.74033,-74.00024,Entire home/apt,149,6,23,2018-05-21,0.27,2,0\n",
      "\n",
      "195971,2 Beds over Bed-Stuy,953279,Tim,Brooklyn,Bedford-Stuyvesant,40.68897,-73.93569,Entire home/apt,139,3,83,2019-06-23,1.19,1,255\n",
      "\n",
      "195989,\"Sunny, Large, Park Slope Bedroom\",611716,Elizabeth,Brooklyn,Park Slope,40.67617,-73.98136,Private room,105,1,211,2019-06-15,2.21,2,252\n",
      "\n",
      "197155,Quiet Jr Alcove Near Times Square!,960836,Vlad,Manhattan,Hell's Kitchen,40.76415,-73.99067,Entire home/apt,149,1,122,2019-06-23,1.29,1,20\n",
      "\n",
      "199312,Sunny Space in Williamsburg,973438,Susanne,Brooklyn,Williamsburg,40.71137,-73.94362,Private room,100,2,273,2019-06-24,2.85,1,254\n",
      "\n",
      "204833,\"Great, spacious apt in Williamsburg\",903686,Melanie,Brooklyn,Williamsburg,40.7093,-73.9497,Private room,100,6,8,2015-09-17,0.09,1,249\n",
      "\n",
      "205043,Modern Condo in Midtown,1007558,Welcome To My Place,Manhattan,Theater District,40.75895,-73.9883,Private room,150,1,330,2019-06-20,7.14,1,111\n",
      "\n",
      "205485,Ideal Brooklyn Brownstone Apartment,1010242,Zora & Chris,Brooklyn,Bedford-Stuyvesant,40.68186,-73.94113,Entire home/apt,145,3,123,2019-06-11,1.29,1,287\n",
      "\n",
      "205867,Private Entrance - Private Parking,1012691,Tiffaney,Brooklyn,Williamsburg,40.71893,-73.9428,Entire home/apt,120,4,87,2019-07-03,0.99,1,263\n",
      "\n",
      "208889,Welcome to Brooklyn! Bed-Stuy,1029021,Jameelah,Brooklyn,Bedford-Stuyvesant,40.69025,-73.93323,Entire home/apt,145,3,30,2019-06-24,0.32,3,11\n",
      "\n",
      "212544,Quiet One Bedroom in Park Slope,1096084,Daniel,Brooklyn,Gowanus,40.67688,-73.9859,Entire home/apt,100,7,9,2016-06-23,0.10,1,0\n",
      "\n",
      "217580,\"Luxury Furnished 1 bedro, Bay Ridge\",1121193,Samuel,Brooklyn,Fort Hamilton,40.61927,-74.0307,Entire home/apt,100,30,7,2018-11-14,0.08,1,241\n",
      "\n",
      "219066,\"Wonderful Studio In Brooklyn, NY!!!\",447754,Yana,Brooklyn,Bensonhurst,40.61922,-73.99399,Entire home/apt,110,1,24,2019-01-19,0.26,1,183\n",
      "\n",
      "219922,\"Lovely Bdr in Harlem, Manhattan\",1139574,Carmel,Manhattan,Harlem,40.816,-73.95545,Private room,100,1,33,2019-05-25,0.38,1,84\n",
      "\n",
      "220946,Newly Reno’d Chic Quiet Exec 1BR,1144415,Lisa,Manhattan,East Village,40.72229,-73.97901,Entire home/apt,146,3,142,2019-06-16,1.50,1,166\n",
      "\n",
      "221097,Large Artist Floorthru- Greenpoint,1146744,Deborah,Brooklyn,Greenpoint,40.72595,-73.95298,Entire home/apt,116,29,22,2019-03-15,0.23,1,335\n",
      "\n",
      "221618,Gorgeous PermaGO Private Room in FiDi - 1/2,4887492,Gershwyn,Manhattan,Tribeca,40.71193,-74.00817,Private room,150,3,82,2019-05-21,0.87,2,90\n",
      "\n",
      "222054,CBG Helps Haiti Rm #3,22486,Lisel,Brooklyn,Park Slope,40.68012,-73.97847,Private room,120,2,23,2018-09-15,0.24,6,342\n",
      "\n",
      "223930,Lovely Apartment,1164642,Rosalynn,Brooklyn,Prospect Heights,40.67424,-73.96665,Entire home/apt,150,5,24,2019-06-23,0.25,1,363\n",
      "\n",
      "225297,Quiet sunny studio Midtown,1173599,Gaya,Manhattan,Midtown,40.74267,-73.98569,Entire home/apt,125,4,3,2018-12-26,0.03,1,0\n",
      "\n",
      "225887,Brooklyn B & B close to Manhattan,663879,Christopher,Brooklyn,Fort Greene,40.68645,-73.97538,Private room,130,3,154,2019-06-19,1.63,2,305\n",
      "\n",
      "228317,\"Your Haven Awaits At \"\"Emma's Place\"\"\",1191142,Lady Jay,Brooklyn,Bedford-Stuyvesant,40.68516,-73.92521,Entire home/apt,135,4,82,2019-05-18,0.87,1,273\n",
      "\n",
      "228517,Great Bedroom in Downtown Manhattan,1192610,Raven,Manhattan,Chinatown,40.71611,-73.99828,Private room,110,30,59,2019-06-24,0.64,1,281\n",
      "\n",
      "228925,Beautiful Brownstone,1194377,Marceline,Brooklyn,Bedford-Stuyvesant,40.67964,-73.93946,Entire home/apt,100,7,63,2019-06-26,1.87,1,321\n",
      "\n",
      "228979,1BDR - Hell's Kitchen Hideaway,1190088,Tim,Manhattan,Hell's Kitchen,40.76189,-73.99,Private room,130,2,52,2018-08-14,0.55,1,303\n",
      "\n",
      "230877,Monthly Apartment Rental,292204,Blanca,Manhattan,East Harlem,40.79239,-73.94535,Entire home/apt,135,28,115,2019-06-30,1.21,2,341\n",
      "\n",
      "232612,\"Lovely pied-à-terre, in an historic building\",1217241,Dee,Brooklyn,Bedford-Stuyvesant,40.68309,-73.94219,Entire home/apt,110,3,305,2019-06-27,3.24,1,231\n",
      "\n",
      "232618,\"Spacious, well furnished, high fl. beautiful views\",763420,Selma,Manhattan,East Harlem,40.79442,-73.93433,Entire home/apt,145,1,102,2019-06-18,1.52,1,308\n",
      "\n",
      "233662,Large Sunny Luxe Prvt Room/Midtown,1223568,Tiffany,Manhattan,Midtown,40.75575,-73.96842,Private room,110,2,61,2019-05-18,0.65,1,264\n",
      "\n",
      "235651,LARGE ARTSY Room w/ Loft Bed 4 DOOGLERS!,83257,Olan,Manhattan,West Village,40.74,-74.00381,Private room,130,30,80,2019-04-26,0.86,2,332\n",
      "\n",
      "239766,Lower East Side/Chinatown 1 Bedroom,1257309,Austin,Manhattan,Lower East Side,40.71693,-73.98948,Entire home/apt,100,5,8,2018-05-18,0.11,1,0\n",
      "\n",
      "241159,Clinton Hill 1 Bed Bright Loft Apartment,1264655,Ruari,Brooklyn,Bedford-Stuyvesant,40.69221,-73.95866,Entire home/apt,110,6,8,2019-01-03,0.33,1,4\n",
      "\n",
      "242643,\"BIG 1br, SLEEPS 4, dishwashr, TV\",1273825,Lauryn,Brooklyn,Williamsburg,40.70832,-73.94157,Entire home/apt,137,1,24,2019-01-01,0.29,1,0\n",
      "\n",
      "246351,\"Sweet Apt, Steps From Gramercy Park\",1292250,Jerry,Manhattan,Gramercy,40.73834,-73.9823,Entire home/apt,135,1,5,2015-08-17,0.06,1,0\n",
      "\n",
      "249618,At a very nice area in the WestSide,1307773,Karina,Manhattan,Washington Heights,40.85099,-73.92822,Private room,125,60,4,2015-07-03,0.06,1,364\n",
      "\n",
      "249867,HANCOCK VERY SMALL ROOM,758441,Fred,Brooklyn,Bedford-Stuyvesant,40.68707,-73.91918,Private room,100,1,7,2018-10-07,0.08,4,281\n",
      "\n",
      "250311,1 Bedroom Available In My Two Bedroom Flat,945499,Kyle,Brooklyn,Crown Heights,40.67495,-73.95563,Private room,150,3,0,,,1,0\n",
      "\n",
      "250323,SPACIOUS PRIVATE LITTLE ITALY FLAT,1311870,Christy,Manhattan,Chinatown,40.71582,-73.99902,Entire home/apt,119,1,49,2014-12-03,0.58,1,0\n",
      "\n",
      "250536,The Lenox in Harlem,1313306,Yvette,Manhattan,Harlem,40.81068,-73.94288,Private room,125,1,11,2017-09-25,0.12,2,365\n",
      "\n",
      "251262,Prime Williamsburg Loft off Bedford,1278802,Anne,Brooklyn,Williamsburg,40.71628,-73.95737,Private room,129,2,241,2019-06-29,2.60,1,303\n",
      "\n",
      "251277,Private Bdrm /Bath 1 block Ctrl Prk,1317343,Carol,Manhattan,Upper West Side,40.78558,-73.9726,Private room,140,1,176,2019-06-29,1.89,1,300\n",
      "\n",
      "252076,+Highly Satisfactory LES dwelling++,297769,Tunji,Manhattan,Chinatown,40.7146,-73.991,Private room,115,4,151,2019-06-16,1.63,2,323\n",
      "\n",
      "254409,Husband & Wife Art-Filled Apartment,1336542,Stephanie,Brooklyn,Clinton Hill,40.68197,-73.96549,Entire home/apt,110,1,2,2014-01-13,0.03,1,0\n",
      "\n",
      "Parsing ERROR:  255476,\"The BLUE OWL:\n",
      "\n"
     ]
    },
    {
     "ename": "SystemExit",
     "evalue": "1",
     "output_type": "error",
     "traceback": [
      "An exception has occurred, use %tb to see the full traceback.\n",
      "\u001b[0;31mSystemExit\u001b[0m\u001b[0;31m:\u001b[0m 1\n"
     ]
    }
   ],
   "source": [
    "for line in lines[1:]:\n",
    "    columns = line.split(',')\n",
    "    clean_columns = [] # this will contain the correctly-parsed columns\n",
    "    in_quote = False  \n",
    "    for x in columns: # we go through the \"dirty\" columns of data. We will set in_quote to True when we are inside a quote\n",
    "        clean_x = x.replace('\"\"', '') # we remove the \"escaped\" quotes from x\n",
    "        n_quotes = clean_x.count('\"')\n",
    "        if not in_quote:\n",
    "            clean_columns += [ clean_x ] # we aren't in a quote, we can add the column to the clean ones\n",
    "            if n_quotes % 2 != 0:  # x contains an odd number of quotes, we will have to handle the next columns differently\n",
    "                in_quote = True\n",
    "        else:\n",
    "            clean_columns[-1] += clean_x  # we are in a quote, we musn't create a new column. Instead, we append the current column to the last one in columns_clean\n",
    "            if n_quotes % 2 != 0:  # this is our closing quote, next column will be out of the quote\n",
    "                in_quote = False\n",
    "    try:\n",
    "        price = int(clean_columns[9])\n",
    "    except:\n",
    "        print(\"Parsing ERROR: \",line)\n",
    "        sys.exit(1)\n",
    "    if price >= 100 and price <= 150:\n",
    "        print(line)\n",
    "    "
   ]
  },
  {
   "cell_type": "markdown",
   "metadata": {
    "slideshow": {
     "slide_type": "fragment"
    }
   },
   "source": [
    "We still have an issue!"
   ]
  },
  {
   "cell_type": "markdown",
   "metadata": {
    "slideshow": {
     "slide_type": "slide"
    }
   },
   "source": [
    "<img src=\"https://upload.wikimedia.org/wikipedia/commons/thumb/d/dd/Antu_task-complete.svg/1024px-Antu_task-complete.svg.png\" width=50 align=left/>\n",
    "\n",
    "Check the data file: \n",
    "* why is line 689 not parsed correctly by our program?\n",
    "* how can we fix this problem and parse the file correctly?\n",
    "\n",
    "(This is left as homework)"
   ]
  }
 ],
 "metadata": {
  "celltoolbar": "Slideshow",
  "kernelspec": {
   "display_name": "Python 3",
   "language": "python",
   "name": "python3"
  },
  "language_info": {
   "codemirror_mode": {
    "name": "ipython",
    "version": 3
   },
   "file_extension": ".py",
   "mimetype": "text/x-python",
   "name": "python",
   "nbconvert_exporter": "python",
   "pygments_lexer": "ipython3",
   "version": "3.7.3"
  }
 },
 "nbformat": 4,
 "nbformat_minor": 2
}
