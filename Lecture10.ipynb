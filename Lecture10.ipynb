{
 "cells": [
  {
   "cell_type": "markdown",
   "metadata": {},
   "source": [
    "# Lecture 10: Project 3 - Creating a template package\n",
    "## November 19, 2019\n",
    "## Tristan Glatard"
   ]
  },
  {
   "cell_type": "markdown",
   "metadata": {
    "slideshow": {
     "slide_type": "slide"
    }
   },
   "source": [
    "### Objectives for today\n",
    "* Create a Python package for our clustering program\n",
    "* Publish it on PyPi"
   ]
  },
  {
   "cell_type": "markdown",
   "metadata": {
    "slideshow": {
     "slide_type": "slide"
    }
   },
   "source": [
    "### First package: a simple script\n",
    "\n",
    "A Python package is a piece of software that can be installed using `pip`. A minimal Python package has to contain:\n",
    "* The software to be packaged\n",
    "* A `setup.py` file with metadata\n",
    "\n",
    "An example is available at https://github.com/tgteacher/package-template\n",
    "\n"
   ]
  },
  {
   "cell_type": "markdown",
   "metadata": {
    "slideshow": {
     "slide_type": "fragment"
    }
   },
   "source": [
    "<img src=\"https://upload.wikimedia.org/wikipedia/commons/thumb/d/dd/Antu_task-complete.svg/1024px-Antu_task-complete.svg.png\" width=50 align=left/>\n",
    "\n",
    "* Download the example above\n",
    "* Install the package by running `pip install .` in the directory containing `setup.py`"
   ]
  },
  {
   "cell_type": "markdown",
   "metadata": {
    "slideshow": {
     "slide_type": "slide"
    }
   },
   "source": [
    "Packages can also be installed directly from GitHub (pay attention to the 'git+' prefix):"
   ]
  },
  {
   "cell_type": "code",
   "execution_count": 16,
   "metadata": {
    "slideshow": {
     "slide_type": "fragment"
    }
   },
   "outputs": [
    {
     "name": "stdout",
     "output_type": "stream",
     "text": [
      "Collecting git+https://github.com/tgteacher/package-template\n",
      "  Cloning https://github.com/tgteacher/package-template to /tmp/pip-req-build-om8bhn3a\n",
      "Requirement already satisfied (use --upgrade to upgrade): MyPackage==0.1 from git+https://github.com/tgteacher/package-template in /home/glatard/venvs/spark/lib/python3.7/site-packages\n",
      "Building wheels for collected packages: MyPackage\n",
      "  Building wheel for MyPackage (setup.py) ... \u001b[?25ldone\n",
      "\u001b[?25h  Stored in directory: /tmp/pip-ephem-wheel-cache-fn3i1fji/wheels/d2/b2/fd/3ea12fd403f7c575ae942633ab24a8128b0ce7c60946fdc037\n",
      "Successfully built MyPackage\n",
      "\u001b[33mYou are using pip version 19.0.3, however version 19.3.1 is available.\n",
      "You should consider upgrading via the 'pip install --upgrade pip' command.\u001b[0m\n",
      "Note: you may need to restart the kernel to use updated packages.\n"
     ]
    }
   ],
   "source": [
    "pip install git+https://github.com/tgteacher/package-template"
   ]
  },
  {
   "cell_type": "markdown",
   "metadata": {
    "slideshow": {
     "slide_type": "slide"
    }
   },
   "source": [
    "<img src=\"https://upload.wikimedia.org/wikipedia/commons/thumb/d/dd/Antu_task-complete.svg/1024px-Antu_task-complete.svg.png\" width=50 align=left/>\n",
    "\n",
    "* Starting from this template, write a `setup.py` file to install the clustering program that you developed in project 2\n",
    "* Make sure that your package can be installed using `pip`\n",
    "* Push your package to GitHub and make sure it can be installed from there"
   ]
  },
  {
   "cell_type": "markdown",
   "metadata": {
    "slideshow": {
     "slide_type": "slide"
    }
   },
   "source": [
    "### Adding software and data dependencies\n",
    "\n",
    "Before publishing your project to PyPi, you should add some information in the metadata. Your `setup.py` could look like this:\n",
    "```\n",
    "from setuptools import setup\n",
    "\n",
    "setup(\n",
    "    name=\"HelloWorldTG\",\n",
    "    version=\"0.1\",\n",
    "    scripts=['cluster.py'],\n",
    "    \n",
    "    # in case your program needs data files\n",
    "    data_files = [('.', ['data-1.csv'])],\n",
    "    \n",
    "    # Project uses matplotlib, so ensure that it gets\n",
    "    # installed or upgraded on the target machine\n",
    "    install_requires=['matplotlib', 'pandas'],\n",
    "\n",
    "    # metadata to display on PyPI\n",
    "    author=\"Me\",\n",
    "    author_email=\"me@example.com\",\n",
    "    description=\"This is an Example Package\",\n",
    "    keywords=\"hello world example examples\",\n",
    "    url=\"http://example.com/HelloWorld/\",   # project home page, if any\n",
    "    project_urls={\n",
    "        \"Bug Tracker\": \"https://bugs.example.com/HelloWorld/\",\n",
    "        \"Documentation\": \"https://docs.example.com/HelloWorld/\",\n",
    "        \"Source Code\": \"https://code.example.com/HelloWorld/\",\n",
    "    },\n",
    "    classifiers=[\n",
    "        'License :: OSI Approved :: Python Software Foundation License'\n",
    "    ]\n",
    "\n",
    "    # could also include long_description, download_url, etc.\n",
    ")\n",
    "```"
   ]
  },
  {
   "cell_type": "markdown",
   "metadata": {
    "slideshow": {
     "slide_type": "fragment"
    }
   },
   "source": [
    "<img src=\"https://upload.wikimedia.org/wikipedia/commons/thumb/d/dd/Antu_task-complete.svg/1024px-Antu_task-complete.svg.png\" width=50 align=left/>\n",
    "\n",
    "* Add medatata, software dependencies (matplotlib and pandas) and data to your package\n",
    "* Make sure that you can still install your package locally (using `pip install .`) and from GitHub"
   ]
  },
  {
   "cell_type": "markdown",
   "metadata": {
    "slideshow": {
     "slide_type": "slide"
    }
   },
   "source": [
    "### Pushing to PyPi\n",
    "\n",
    "<img src=\"https://upload.wikimedia.org/wikipedia/commons/thumb/d/dd/Antu_task-complete.svg/1024px-Antu_task-complete.svg.png\" width=50 align=left/>\n",
    "\n",
    "* Create an account on PyPi:\n",
    "https://pypi.org/account/register\n",
    "* Install twine, Python's package uploader: `pip install twine`\n",
    "* Create a distribution of your package: `python setup.py bdist_wheel`\n",
    "* Upload your project to PyPi: `twine upload dist/*`\n",
    "* Look at your project on PyPi!\n"
   ]
  },
  {
   "cell_type": "markdown",
   "metadata": {
    "slideshow": {
     "slide_type": "slide"
    }
   },
   "source": [
    "### Creating a module\n",
    "\n",
    "Our current package only contains a script that can be executed from the command line. Sometimes, it could useful to run the clustering algorithm from a Python program. To do that, we will have to create a function to wrap our project, and to declare our package as a module.\n",
    "\n",
    "You may remember that a function is defined as follows:"
   ]
  },
  {
   "cell_type": "code",
   "execution_count": 11,
   "metadata": {
    "slideshow": {
     "slide_type": "fragment"
    }
   },
   "outputs": [],
   "source": [
    "def my_function(a):\n",
    "    print(\"Hello {}!\".format(a))"
   ]
  },
  {
   "cell_type": "markdown",
   "metadata": {
    "slideshow": {
     "slide_type": "fragment"
    }
   },
   "source": [
    "It can then be called as follows:"
   ]
  },
  {
   "cell_type": "code",
   "execution_count": 17,
   "metadata": {
    "slideshow": {
     "slide_type": "fragment"
    }
   },
   "outputs": [
    {
     "name": "stdout",
     "output_type": "stream",
     "text": [
      "Hello Concordia!\n"
     ]
    }
   ],
   "source": [
    "my_function(\"Concordia\")"
   ]
  },
  {
   "cell_type": "markdown",
   "metadata": {
    "slideshow": {
     "slide_type": "slide"
    }
   },
   "source": [
    "<img src=\"https://upload.wikimedia.org/wikipedia/commons/thumb/d/dd/Antu_task-complete.svg/1024px-Antu_task-complete.svg.png\" width=50 align=left/>\n",
    "\n",
    "* Move your clustering program into a function and test it"
   ]
  },
  {
   "cell_type": "markdown",
   "metadata": {
    "slideshow": {
     "slide_type": "slide"
    }
   },
   "source": [
    "To create a module, we have to:\n",
    "1. Create a sub-directory in our package base directory, named after the package name\n",
    "2. Create an empty file called `__init__.py` in that directory\n"
   ]
  },
  {
   "cell_type": "markdown",
   "metadata": {
    "slideshow": {
     "slide_type": "slide"
    }
   },
   "source": [
    "<img src=\"https://upload.wikimedia.org/wikipedia/commons/thumb/d/dd/Antu_task-complete.svg/1024px-Antu_task-complete.svg.png\" width=50 align=left/>\n",
    "\n",
    "* Starting from the example at https://github.com/tgteacher/project-package, create a module for your project.\n",
    "* Make sure you can import this module and run your code from a Python program, for instance:\n",
    "    \n",
    "    "
   ]
  },
  {
   "cell_type": "code",
   "execution_count": null,
   "metadata": {
    "slideshow": {
     "slide_type": "fragment"
    }
   },
   "outputs": [],
   "source": [
    "from HelloWorldTG import cluster\n",
    "cluster.cluster()"
   ]
  },
  {
   "cell_type": "markdown",
   "metadata": {
    "slideshow": {
     "slide_type": "slide"
    }
   },
   "source": [
    "### Bonus\n",
    "\n",
    "The [Shablona](https://github.com/uwescience/shablona) project is a template package for data science projects. In addition to the items we added to our first module, it also contains:\n",
    "\n",
    "1. Tests\n",
    "2. Documentation\n",
    "3. Continuous Integration\n",
    "4. Licensing\n",
    "\n",
    "<img src=\"https://upload.wikimedia.org/wikipedia/commons/thumb/d/dd/Antu_task-complete.svg/1024px-Antu_task-complete.svg.png\" width=50 align=left/>\n",
    "\n",
    "1. Inspect the Shablona template and review its main features\n",
    "2. Create a more complete package for your project using Shablona\n"
   ]
  }
 ],
 "metadata": {
  "celltoolbar": "Slideshow",
  "kernelspec": {
   "display_name": "Python 3",
   "language": "python",
   "name": "python3"
  },
  "language_info": {
   "codemirror_mode": {
    "name": "ipython",
    "version": 3
   },
   "file_extension": ".py",
   "mimetype": "text/x-python",
   "name": "python",
   "nbconvert_exporter": "python",
   "pygments_lexer": "ipython3",
   "version": "3.7.5"
  }
 },
 "nbformat": 4,
 "nbformat_minor": 2
}
