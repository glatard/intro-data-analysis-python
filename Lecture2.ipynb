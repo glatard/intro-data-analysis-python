{
 "cells": [
  {
   "cell_type": "markdown",
   "metadata": {
    "slideshow": {
     "slide_type": "slide"
    }
   },
   "source": [
    "# Lecture 2: Logic, Looping & Functions\n",
    "## September 24, 2019\n",
    "## Tristan Glatard"
   ]
  },
  {
   "cell_type": "markdown",
   "metadata": {
    "slideshow": {
     "slide_type": "slide"
    }
   },
   "source": [
    "# Feedback from journalling\n",
    "\n",
    "## Useful tips\n",
    "\n",
    "* How easy it is to download Python on my MAC and Windows. \n",
    "* How to adjust the pace\n",
    "\n",
    "## Soon coming!\n",
    "\n",
    "\n",
    "*  But I wonder if we can also save blocks of python instructions in a file and then execute them in batch mode. If possible it would be useful to learn how to do that\n",
    "\n",
    "* I'm not necessarily seeing how I can turn this into dashboards I can use but it will come with time\n",
    "\n",
    "* How data is manipulated for visualization\n",
    "\n",
    "* To get more knowledge about Github\n",
    "\n",
    "## Sorry, this is out of scope\n",
    "\n",
    "* How to go from writing on python to create an actual website.\n",
    "* I'm hoping to learn how to create a game with python. \n",
    "\n",
    "* In class it's not necessary to spend more time for basic coding\n",
    "\n",
    "## A few words on Homework 1"
   ]
  },
  {
   "cell_type": "markdown",
   "metadata": {
    "slideshow": {
     "slide_type": "slide"
    }
   },
   "source": [
    "# Objectives of this lecture\n",
    "\n",
    "* Write **if** statements\n",
    "* Write **for** loops\n",
    "* Write **while** loops\n",
    "* Define **functions**"
   ]
  },
  {
   "cell_type": "markdown",
   "metadata": {
    "slideshow": {
     "slide_type": "slide"
    }
   },
   "source": [
    "# Conditionals\n",
    "\n",
    "Conditionals will help you create more complex programs\n",
    "\n",
    "## *if* statement\n",
    "\n",
    "Example:"
   ]
  },
  {
   "cell_type": "code",
   "execution_count": 1,
   "metadata": {
    "slideshow": {
     "slide_type": "fragment"
    }
   },
   "outputs": [
    {
     "name": "stdout",
     "output_type": "stream",
     "text": [
      "high\n"
     ]
    }
   ],
   "source": [
    "a = 3\n",
    "if a > 2:\n",
    "    print(\"high\")\n",
    "else:\n",
    "    print(\"low\")"
   ]
  },
  {
   "cell_type": "markdown",
   "metadata": {
    "slideshow": {
     "slide_type": "fragment"
    }
   },
   "source": [
    "Note: mind the indentation.\n",
    "\n",
    "\n"
   ]
  },
  {
   "cell_type": "markdown",
   "metadata": {
    "slideshow": {
     "slide_type": "slide"
    }
   },
   "source": [
    "An example with a more complex condition:"
   ]
  },
  {
   "cell_type": "code",
   "execution_count": 2,
   "metadata": {
    "slideshow": {
     "slide_type": "fragment"
    }
   },
   "outputs": [
    {
     "name": "stdout",
     "output_type": "stream",
     "text": [
      "it's far!\n"
     ]
    }
   ],
   "source": [
    "b = \"Atlantic\"\n",
    "\n",
    "if b.startswith(\"Ca\") and b != \"Cambodia\":\n",
    "    print(\"it's here!\")\n",
    "    print('something else')    \n",
    "else:\n",
    "    print(\"it's far!\")"
   ]
  },
  {
   "cell_type": "markdown",
   "metadata": {
    "slideshow": {
     "slide_type": "slide"
    }
   },
   "source": [
    "<img src=\"https://upload.wikimedia.org/wikipedia/commons/thumb/d/dd/Antu_task-complete.svg/1024px-Antu_task-complete.svg.png\" width=50 align=left/>\n",
    "\n",
    "* Assign a list to a variable\n",
    "* Write a program that prints \"too long\" if the list has more than 10 elements, \"ok\" otherwise"
   ]
  },
  {
   "cell_type": "code",
   "execution_count": 3,
   "metadata": {
    "slideshow": {
     "slide_type": "fragment"
    }
   },
   "outputs": [
    {
     "name": "stdout",
     "output_type": "stream",
     "text": [
      "too long\n"
     ]
    }
   ],
   "source": [
    "long = [ 1, 'two', 3, 4, 'five', 6, 7, 8, 'nine', 10, 11]\n",
    "l = long\n",
    "if len(l) > 10:\n",
    "    print(\"too long\")\n",
    "else:\n",
    "    print(\"ok\")"
   ]
  },
  {
   "cell_type": "markdown",
   "metadata": {
    "slideshow": {
     "slide_type": "slide"
    }
   },
   "source": [
    "<img src=\"https://upload.wikimedia.org/wikipedia/commons/thumb/d/dd/Antu_task-complete.svg/1024px-Antu_task-complete.svg.png\" width=50 align=left/>\n",
    "\n",
    "* Assign a number to a variable\n",
    "* Write a program that prints \"Divisible by 3\" if the number is divisible by 3, \"not divisible by 3\" otherwise"
   ]
  },
  {
   "cell_type": "code",
   "execution_count": 4,
   "metadata": {
    "slideshow": {
     "slide_type": "fragment"
    }
   },
   "outputs": [
    {
     "name": "stdout",
     "output_type": "stream",
     "text": [
      "Divisible by 3\n"
     ]
    }
   ],
   "source": [
    "num = 6\n",
    "if num % 3 == 0:\n",
    "    print(\"Divisible by 3\")\n",
    "else:\n",
    "    print(\"Not divisible by 3\")"
   ]
  },
  {
   "cell_type": "markdown",
   "metadata": {
    "slideshow": {
     "slide_type": "slide"
    }
   },
   "source": [
    "## Bonus: conditional assignments\n",
    "\n",
    "<img src=\"https://upload.wikimedia.org/wikipedia/commons/thumb/d/dd/Antu_task-complete.svg/1024px-Antu_task-complete.svg.png\" width=50 align=left/>\n",
    "\n",
    "Based on your understanding of conditionals and variable assignments, search for \"conditional assignments\" and build a small example using them."
   ]
  },
  {
   "cell_type": "code",
   "execution_count": 5,
   "metadata": {
    "slideshow": {
     "slide_type": "fragment"
    }
   },
   "outputs": [
    {
     "name": "stdout",
     "output_type": "stream",
     "text": [
      "Not divisible by 3\n"
     ]
    }
   ],
   "source": [
    "num = 7\n",
    "message = \"Divisible by 3\" if num % 3 == 0 else \"Not divisible by 3\"\n",
    "print(message)"
   ]
  },
  {
   "cell_type": "markdown",
   "metadata": {
    "slideshow": {
     "slide_type": "slide"
    }
   },
   "source": [
    "# Looping\n",
    "\n",
    "Loops are essential logical constructs of programs, in any programming language. The most famous and useful type of loop is the \"for\" loop.\n",
    "\n",
    "## for\n",
    "\n",
    "In Python, \"for\" loops iterate over a list, a tuple, a dictionary, or a range.\n",
    "\n",
    "\n",
    "## Iterations on lists"
   ]
  },
  {
   "cell_type": "code",
   "execution_count": 6,
   "metadata": {
    "scrolled": false,
    "slideshow": {
     "slide_type": "fragment"
    }
   },
   "outputs": [
    {
     "name": "stdout",
     "output_type": "stream",
     "text": [
      "\"house\" has 5 characters\n",
      "\"computer\" has 8 characters\n",
      "\"school\" has 6 characters\n",
      "\"telephone\" has 9 characters\n"
     ]
    }
   ],
   "source": [
    "for word in [\"house\", \"computer\", \"school\", \"telephone\"]:\n",
    "    print('\"{}\" has {} characters'.format(word, len(word)))"
   ]
  },
  {
   "cell_type": "markdown",
   "metadata": {
    "slideshow": {
     "slide_type": "slide"
    }
   },
   "source": [
    "## Iterations on tuples"
   ]
  },
  {
   "cell_type": "code",
   "execution_count": 7,
   "metadata": {
    "slideshow": {
     "slide_type": "fragment"
    }
   },
   "outputs": [
    {
     "name": "stdout",
     "output_type": "stream",
     "text": [
      "\"a\" is of type <class 'str'>\n",
      "\"1\" is of type <class 'int'>\n",
      "\"3.0\" is of type <class 'float'>\n",
      "\"[4]\" is of type <class 'list'>\n"
     ]
    }
   ],
   "source": [
    "for x in ('a', 1, 3.0, [4]):\n",
    "    print('\"{}\" is of type {}'.format(x, type(x)))"
   ]
  },
  {
   "cell_type": "markdown",
   "metadata": {
    "slideshow": {
     "slide_type": "slide"
    }
   },
   "source": [
    "<img src=\"https://upload.wikimedia.org/wikipedia/commons/thumb/d/dd/Antu_task-complete.svg/1024px-Antu_task-complete.svg.png\" width=50 align=left/>\n",
    "\n",
    "* Assign a list of strings to a variable\n",
    "* Create a program that prints the first character of every element in the list"
   ]
  },
  {
   "cell_type": "code",
   "execution_count": 8,
   "metadata": {
    "slideshow": {
     "slide_type": "fragment"
    }
   },
   "outputs": [
    {
     "name": "stdout",
     "output_type": "stream",
     "text": [
      "h\n",
      "d\n",
      "c\n",
      "c\n"
     ]
    }
   ],
   "source": [
    "words = [\"house\", \"dog\", \"cat\", \"car\"]\n",
    "for w in words:\n",
    "    print(w[0])"
   ]
  },
  {
   "cell_type": "markdown",
   "metadata": {
    "slideshow": {
     "slide_type": "slide"
    }
   },
   "source": [
    "<img src=\"https://upload.wikimedia.org/wikipedia/commons/thumb/d/dd/Antu_task-complete.svg/1024px-Antu_task-complete.svg.png\" width=50 align=left/>\n",
    "\n",
    "* Assign a list of integers to a variable\n",
    "* Create a program that prints the even numbers in the list"
   ]
  },
  {
   "cell_type": "code",
   "execution_count": 9,
   "metadata": {
    "slideshow": {
     "slide_type": "fragment"
    }
   },
   "outputs": [
    {
     "name": "stdout",
     "output_type": "stream",
     "text": [
      "2\n",
      "4\n",
      "64\n",
      "12\n"
     ]
    }
   ],
   "source": [
    "ints = [1, 2, 4, 5, 64, 23, 12]\n",
    "for x in ints:\n",
    "    if x % 2 == 0:\n",
    "        print(x)"
   ]
  },
  {
   "cell_type": "markdown",
   "metadata": {
    "slideshow": {
     "slide_type": "slide"
    }
   },
   "source": [
    "\n",
    "<img src=\"https://upload.wikimedia.org/wikipedia/commons/thumb/d/dd/Antu_task-complete.svg/1024px-Antu_task-complete.svg.png\" width=50 align=left/>\n",
    "\n",
    "**Extra**\n",
    "\n",
    "* Assign a list of strings to a variable named `words`\n",
    "* Create an empty list and assign it to a variable named `small_words`\n",
    "* Create a program that adds to `small_words` all the words of `words` that have less than 4 characters"
   ]
  },
  {
   "cell_type": "code",
   "execution_count": 10,
   "metadata": {
    "slideshow": {
     "slide_type": "fragment"
    }
   },
   "outputs": [
    {
     "name": "stdout",
     "output_type": "stream",
     "text": [
      "['pie', 'bar', 'foo']\n"
     ]
    }
   ],
   "source": [
    "words = ['apple', 'pie', 'pear', 'banana', 'bar', 'foo', 'avocado', 'watermelon']\n",
    "small_words = []\n",
    "for w in words:\n",
    "    if len(w) < 4:\n",
    "        small_words += [ w ] \n",
    "print(small_words)"
   ]
  },
  {
   "cell_type": "markdown",
   "metadata": {
    "slideshow": {
     "slide_type": "slide"
    }
   },
   "source": [
    "## Bonus: list comprehension\n",
    "<img src=\"https://upload.wikimedia.org/wikipedia/commons/thumb/d/dd/Antu_task-complete.svg/1024px-Antu_task-complete.svg.png\" width=50 align=left/>\n",
    "Based on your experience with for loops and list, search for how to build a list using \"list comprehension\"."
   ]
  },
  {
   "cell_type": "code",
   "execution_count": 11,
   "metadata": {
    "slideshow": {
     "slide_type": "fragment"
    }
   },
   "outputs": [
    {
     "name": "stdout",
     "output_type": "stream",
     "text": [
      "[2, 4, 6, 8]\n"
     ]
    }
   ],
   "source": [
    "ints = [1, 2, 3, 4, 5, 6, 7, 8]\n",
    "evens = [x for x in ints if x % 2 ==0]\n",
    "print(evens)"
   ]
  },
  {
   "cell_type": "markdown",
   "metadata": {
    "slideshow": {
     "slide_type": "slide"
    }
   },
   "source": [
    "## Iterations on ranges"
   ]
  },
  {
   "cell_type": "code",
   "execution_count": 12,
   "metadata": {
    "scrolled": true,
    "slideshow": {
     "slide_type": "fragment"
    }
   },
   "outputs": [
    {
     "name": "stdout",
     "output_type": "stream",
     "text": [
      "0\n",
      "1\n",
      "2\n",
      "3\n",
      "4\n"
     ]
    }
   ],
   "source": [
    "for counter in range(5):\n",
    "    print(counter)"
   ]
  },
  {
   "cell_type": "markdown",
   "metadata": {
    "slideshow": {
     "slide_type": "slide"
    }
   },
   "source": [
    "<img src=\"https://upload.wikimedia.org/wikipedia/commons/thumb/d/dd/Antu_task-complete.svg/1024px-Antu_task-complete.svg.png\" width=50 align=left/>\n",
    "\n",
    "* Assign an integer to a variable called `n`\n",
    "* Write a program that prints \"Prime\" if `n` is a prime number, \"Not prime\" otherwise\n"
   ]
  },
  {
   "cell_type": "code",
   "execution_count": 13,
   "metadata": {
    "slideshow": {
     "slide_type": "fragment"
    }
   },
   "outputs": [
    {
     "name": "stdout",
     "output_type": "stream",
     "text": [
      "Prime\n"
     ]
    }
   ],
   "source": [
    "n = 97\n",
    "prime = True\n",
    "for i in range(2, int(n/2)):\n",
    "    if n % i ==0:\n",
    "        prime = False\n",
    "        break\n",
    "if prime:\n",
    "    print(\"Prime\")\n",
    "else:\n",
    "    print(\"Not prime\")"
   ]
  },
  {
   "cell_type": "markdown",
   "metadata": {
    "slideshow": {
     "slide_type": "slide"
    }
   },
   "source": [
    "<img src=\"https://upload.wikimedia.org/wikipedia/commons/thumb/d/dd/Antu_task-complete.svg/1024px-Antu_task-complete.svg.png\" width=50 align=left/>\n",
    "\n",
    "\n",
    "**Extra**\n",
    "\n",
    "* Write a program to construct the following pattern, using a nested for loop.\n",
    "\n",
    "$\n",
    "+ \\\\\n",
    "++ \\\\\n",
    "+++ \\\\\n",
    "++++ \\\\\n",
    "+++++\\\\\n",
    "++++\\\\\n",
    "+++ \\\\\n",
    "++ \\\\\n",
    "+\n",
    "$"
   ]
  },
  {
   "cell_type": "code",
   "execution_count": 14,
   "metadata": {
    "slideshow": {
     "slide_type": "fragment"
    }
   },
   "outputs": [
    {
     "name": "stdout",
     "output_type": "stream",
     "text": [
      "+\n",
      "++\n",
      "+++\n",
      "++++\n",
      "+++++\n",
      "++++\n",
      "+++\n",
      "++\n",
      "+\n"
     ]
    }
   ],
   "source": [
    "char = '+'\n",
    "max_lines = 9\n",
    "for i in range(max_lines):\n",
    "    for j in range(min(i+1, max_lines - i)):\n",
    "        print(end=char) # print char without newline\n",
    "    print() # print newline"
   ]
  },
  {
   "cell_type": "markdown",
   "metadata": {
    "slideshow": {
     "slide_type": "slide"
    }
   },
   "source": [
    "### Iterations on dictionary keys"
   ]
  },
  {
   "cell_type": "code",
   "execution_count": 15,
   "metadata": {
    "slideshow": {
     "slide_type": "fragment"
    }
   },
   "outputs": [
    {
     "name": "stdout",
     "output_type": "stream",
     "text": [
      "I know someone called john who is 12 years old\n",
      "I know someone called jane who is 11 years old\n"
     ]
    }
   ],
   "source": [
    "d = {'john': 12, 'jane': 11}\n",
    "for i in d.keys():\n",
    "    print(\"I know someone called {} who is {} years old\".format(i, d[i]))"
   ]
  },
  {
   "cell_type": "markdown",
   "metadata": {
    "slideshow": {
     "slide_type": "slide"
    }
   },
   "source": [
    "<img src=\"https://upload.wikimedia.org/wikipedia/commons/thumb/d/dd/Antu_task-complete.svg/1024px-Antu_task-complete.svg.png\" width=50 align=left/>\n",
    "\n",
    "* Create a dictionary where the keys are city names, and the values are numbers representing temperatures measured in the city.\n",
    "* Write a program that prints the city names where the measured temperature exceeds 22 degrees."
   ]
  },
  {
   "cell_type": "code",
   "execution_count": 16,
   "metadata": {
    "slideshow": {
     "slide_type": "fragment"
    }
   },
   "outputs": [
    {
     "name": "stdout",
     "output_type": "stream",
     "text": [
      "Vancouver\n",
      "Havana\n"
     ]
    }
   ],
   "source": [
    "cities = {'Montreal': 15, 'Toronto': 19, 'Vancouver': 23, 'Havana': 29}\n",
    "for c in cities.keys():\n",
    "    if cities[c] > 22:\n",
    "        print(c)"
   ]
  },
  {
   "cell_type": "markdown",
   "metadata": {
    "slideshow": {
     "slide_type": "slide"
    }
   },
   "source": [
    "## *while* loops\n",
    "\n",
    "While loops iterate until their condition is not met:\n"
   ]
  },
  {
   "cell_type": "code",
   "execution_count": 17,
   "metadata": {
    "slideshow": {
     "slide_type": "fragment"
    }
   },
   "outputs": [
    {
     "name": "stdout",
     "output_type": "stream",
     "text": [
      "9\n",
      "8\n",
      "7\n",
      "6\n",
      "5\n",
      "4\n",
      "3\n",
      "2\n",
      "1\n",
      "0\n"
     ]
    }
   ],
   "source": [
    "a = 10\n",
    "while a > 0:\n",
    "    a = a - 1\n",
    "    print(a)"
   ]
  },
  {
   "cell_type": "markdown",
   "metadata": {
    "slideshow": {
     "slide_type": "fragment"
    }
   },
   "source": [
    "Mind the infinite loop!"
   ]
  },
  {
   "cell_type": "markdown",
   "metadata": {
    "slideshow": {
     "slide_type": "slide"
    }
   },
   "source": [
    "<img src=\"https://upload.wikimedia.org/wikipedia/commons/thumb/d/dd/Antu_task-complete.svg/1024px-Antu_task-complete.svg.png\" width=50 align=left/>\n",
    "\n",
    "* Write a program that asks the user to enter a string repeatedly until the user enters \"Montreal\""
   ]
  },
  {
   "cell_type": "code",
   "execution_count": 18,
   "metadata": {
    "slideshow": {
     "slide_type": "fragment"
    }
   },
   "outputs": [
    {
     "name": "stdout",
     "output_type": "stream",
     "text": [
      "Enter city name: Toronto\n",
      "Enter city name: Vancouver\n",
      "Enter city name: Montreal\n"
     ]
    }
   ],
   "source": [
    "a = None\n",
    "while a != 'Montreal':\n",
    "    a = input('Enter city name: ')"
   ]
  },
  {
   "cell_type": "markdown",
   "metadata": {
    "slideshow": {
     "slide_type": "slide"
    }
   },
   "source": [
    "# Functions\n",
    "\n",
    "Functions can be defined when a program needs to be called repeatedly. They are defined with the `def` keyword:"
   ]
  },
  {
   "cell_type": "code",
   "execution_count": 19,
   "metadata": {
    "slideshow": {
     "slide_type": "fragment"
    }
   },
   "outputs": [],
   "source": [
    "def check_odd(n):\n",
    "    '''\n",
    "    This function returns True if its argument (n) is an odd number\n",
    "    '''\n",
    "    if n % 2 == 0:\n",
    "        return False\n",
    "    else:\n",
    "        return True"
   ]
  },
  {
   "cell_type": "code",
   "execution_count": 20,
   "metadata": {
    "slideshow": {
     "slide_type": "fragment"
    }
   },
   "outputs": [
    {
     "data": {
      "text/plain": [
       "True"
      ]
     },
     "execution_count": 20,
     "metadata": {},
     "output_type": "execute_result"
    }
   ],
   "source": [
    "check_odd(3)"
   ]
  },
  {
   "cell_type": "code",
   "execution_count": 21,
   "metadata": {
    "slideshow": {
     "slide_type": "fragment"
    }
   },
   "outputs": [
    {
     "data": {
      "text/plain": [
       "False"
      ]
     },
     "execution_count": 21,
     "metadata": {},
     "output_type": "execute_result"
    }
   ],
   "source": [
    "check_odd(4)"
   ]
  },
  {
   "cell_type": "markdown",
   "metadata": {
    "slideshow": {
     "slide_type": "slide"
    }
   },
   "source": [
    "<img src=\"https://upload.wikimedia.org/wikipedia/commons/thumb/d/dd/Antu_task-complete.svg/1024px-Antu_task-complete.svg.png\" width=50 align=left/>\n",
    "\n",
    "* Write a function `is_prime` that returns True if its argument is a prime number"
   ]
  },
  {
   "cell_type": "code",
   "execution_count": 22,
   "metadata": {
    "slideshow": {
     "slide_type": "fragment"
    }
   },
   "outputs": [],
   "source": [
    "def is_prime(n):\n",
    "    for i in range(2, int(n/2)):\n",
    "        if n % i ==0:\n",
    "            return False\n",
    "    return True\n"
   ]
  },
  {
   "cell_type": "code",
   "execution_count": 23,
   "metadata": {
    "slideshow": {
     "slide_type": "fragment"
    }
   },
   "outputs": [
    {
     "name": "stdout",
     "output_type": "stream",
     "text": [
      "True\n",
      "False\n"
     ]
    }
   ],
   "source": [
    "print(is_prime(17))\n",
    "print(is_prime(15))"
   ]
  },
  {
   "cell_type": "markdown",
   "metadata": {
    "slideshow": {
     "slide_type": "slide"
    }
   },
   "source": [
    "<img src=\"https://upload.wikimedia.org/wikipedia/commons/thumb/d/dd/Antu_task-complete.svg/1024px-Antu_task-complete.svg.png\" width=50 align=left/>\n",
    "\n",
    "* Write a function with multiple arguments"
   ]
  },
  {
   "cell_type": "code",
   "execution_count": 24,
   "metadata": {
    "slideshow": {
     "slide_type": "fragment"
    }
   },
   "outputs": [
    {
     "name": "stdout",
     "output_type": "stream",
     "text": [
      "6\n"
     ]
    }
   ],
   "source": [
    "def multiply(a, b):\n",
    "    return a*b\n",
    "\n",
    "print(multiply(2, 3))"
   ]
  },
  {
   "cell_type": "markdown",
   "metadata": {
    "slideshow": {
     "slide_type": "slide"
    }
   },
   "source": [
    "## Bonus: recursive functions\n",
    "\n",
    "A recursive function is a function that calls itself. For instance, the following function computes $x^n$ recursively:"
   ]
  },
  {
   "cell_type": "code",
   "execution_count": 25,
   "metadata": {
    "slideshow": {
     "slide_type": "fragment"
    }
   },
   "outputs": [],
   "source": [
    "def pow(x, n):\n",
    "    if n == 0:  # initial condition, don't forget it or your function will \"loop\" infinitely\n",
    "        return 1\n",
    "    return pow(x, n-1)*x"
   ]
  },
  {
   "cell_type": "code",
   "execution_count": 26,
   "metadata": {
    "slideshow": {
     "slide_type": "fragment"
    }
   },
   "outputs": [
    {
     "data": {
      "text/plain": [
       "27"
      ]
     },
     "execution_count": 26,
     "metadata": {},
     "output_type": "execute_result"
    }
   ],
   "source": [
    "pow(3, 3)"
   ]
  },
  {
   "cell_type": "markdown",
   "metadata": {
    "slideshow": {
     "slide_type": "slide"
    }
   },
   "source": [
    "<img src=\"https://upload.wikimedia.org/wikipedia/commons/thumb/d/dd/Antu_task-complete.svg/1024px-Antu_task-complete.svg.png\" width=50 align=left/>\n",
    "\n",
    "* Write a recursive function to compute n! (\"n factorial\")"
   ]
  },
  {
   "cell_type": "code",
   "execution_count": 27,
   "metadata": {
    "slideshow": {
     "slide_type": "fragment"
    }
   },
   "outputs": [],
   "source": [
    "def factorial(n):\n",
    "    if n == 1:\n",
    "        return 1\n",
    "    return n*factorial(n-1)"
   ]
  },
  {
   "cell_type": "code",
   "execution_count": 28,
   "metadata": {
    "slideshow": {
     "slide_type": "fragment"
    }
   },
   "outputs": [
    {
     "name": "stdout",
     "output_type": "stream",
     "text": [
      "720\n"
     ]
    }
   ],
   "source": [
    "print(factorial(6))"
   ]
  },
  {
   "cell_type": "markdown",
   "metadata": {
    "slideshow": {
     "slide_type": "slide"
    }
   },
   "source": [
    "# Back to today's goals\n",
    "\n",
    "* Write **if** statements\n",
    "* Write **for** loops\n",
    "* Write **while** loops\n",
    "* Define **functions**"
   ]
  }
 ],
 "metadata": {
  "celltoolbar": "Slideshow",
  "kernelspec": {
   "display_name": "Python 3",
   "language": "python",
   "name": "python3"
  },
  "language_info": {
   "codemirror_mode": {
    "name": "ipython",
    "version": 3
   },
   "file_extension": ".py",
   "mimetype": "text/x-python",
   "name": "python",
   "nbconvert_exporter": "python",
   "pygments_lexer": "ipython3",
   "version": "3.7.3"
  }
 },
 "nbformat": 4,
 "nbformat_minor": 2
}
